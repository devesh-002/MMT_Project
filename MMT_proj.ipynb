{
  "nbformat": 4,
  "nbformat_minor": 0,
  "metadata": {
    "colab": {
      "provenance": []
    },
    "kernelspec": {
      "name": "python3",
      "display_name": "Python 3"
    },
    "language_info": {
      "name": "python"
    },
    "gpuClass": "standard"
  },
  "cells": [
    {
      "cell_type": "code",
      "execution_count": null,
      "metadata": {
        "colab": {
          "base_uri": "https://localhost:8080/"
        },
        "id": "dkSfv9OJra-U",
        "outputId": "2b2e4179-7af8-4dd3-dc51-23caa5aabdfb"
      },
      "outputs": [
        {
          "output_type": "stream",
          "name": "stdout",
          "text": [
            "Mounted at /content/drive\n"
          ]
        }
      ],
      "source": [
        "from google.colab import drive\n",
        "drive.mount('/content/drive')\n"
      ]
    },
    {
      "cell_type": "code",
      "source": [
        "import pandas as pd\n",
        "import numpy as np\n",
        "import io\n",
        "import scipy.stats as stats\n"
      ],
      "metadata": {
        "id": "6JiH1p2y2q5k"
      },
      "execution_count": 2,
      "outputs": []
    },
    {
      "cell_type": "code",
      "source": [
        "!cp /content/drive/MyDrive/CombinedData.csv ."
      ],
      "metadata": {
        "id": "HilkVqV9r0lM"
      },
      "execution_count": null,
      "outputs": []
    },
    {
      "cell_type": "code",
      "source": [
        "df=pd.read_csv(\"/content/CombinedData.csv\")\n",
        "# df.drop([\"acousticness\",\"danceability\",\"energy\",\"instrumentalness\",\"key\",\"liveness\",\"loudness\",\"speechiness\",\"tempo\",\"valence\"],axis=1, inplace=True)\n",
        "df"
      ],
      "metadata": {
        "colab": {
          "base_uri": "https://localhost:8080/",
          "height": 748
        },
        "id": "4NMIzrhXsAfY",
        "outputId": "e276c8b5-e0d6-49ce-f0a0-2459a6648e7d"
      },
      "execution_count": null,
      "outputs": [
        {
          "output_type": "execute_result",
          "data": {
            "text/plain": [
              "       position                                   track_name      artist_name  \\\n",
              "0             1            INDUSTRY BABY (feat. Jack Harlow)        Lil Nas X   \n",
              "1             2                    STAY (with Justin Bieber)    The Kid LAROI   \n",
              "2             3        Way 2 Sexy (with Future & Young Thug)            Drake   \n",
              "3             4  Knife Talk (with 21 Savage ft. Project Pat)            Drake   \n",
              "4             5                                   Heat Waves    Glass Animals   \n",
              "...         ...                                          ...              ...   \n",
              "12809       196                            Mượn Rượu Tỏ Tình         BigDaddy   \n",
              "12810       197                                         Some             BOL4   \n",
              "12811       198                                   Nến Và Hoa        Rhymastic   \n",
              "12812       199                                 Shape of You       Ed Sheeran   \n",
              "12813       200          Thuong Em La Dieu Anh Khong The Ngo  Noo Phước Thịnh   \n",
              "\n",
              "       streams                                          track_url  \\\n",
              "0      1640059  https://open.spotify.com/track/5Z9KJZvQzH6PFmb...   \n",
              "1      1392423  https://open.spotify.com/track/5PjdY0CKGZdEuoN...   \n",
              "2      1311664  https://open.spotify.com/track/0k1WUmIRnG3xU6f...   \n",
              "3      1266467  https://open.spotify.com/track/2BcMwX1MPV6ZHP4...   \n",
              "4      1095757  https://open.spotify.com/track/02MWAaffLxlfxAU...   \n",
              "...        ...                                                ...   \n",
              "12809     4370  https://open.spotify.com/track/7y5HF80szyShYXp...   \n",
              "12810     4359  https://open.spotify.com/track/3jsYQw78lrxJA2y...   \n",
              "12811     4336  https://open.spotify.com/track/4S0uLMXRoAjFfIJ...   \n",
              "12812     4322  https://open.spotify.com/track/7qiZfU4dY1lWllz...   \n",
              "12813     4318  https://open.spotify.com/track/2gT5LL3uRANxvvm...   \n",
              "\n",
              "             country  acousticness  danceability  energy  instrumentalness  \\\n",
              "0      United States           NaN           NaN     NaN               NaN   \n",
              "1      United States           NaN           NaN     NaN               NaN   \n",
              "2      United States           NaN           NaN     NaN               NaN   \n",
              "3      United States           NaN           NaN     NaN               NaN   \n",
              "4      United States           NaN           NaN     NaN               NaN   \n",
              "...              ...           ...           ...     ...               ...   \n",
              "12809       Viet Nam           NaN           NaN     NaN               NaN   \n",
              "12810       Viet Nam           NaN           NaN     NaN               NaN   \n",
              "12811       Viet Nam           NaN           NaN     NaN               NaN   \n",
              "12812       Viet Nam           NaN           NaN     NaN               NaN   \n",
              "12813       Viet Nam           NaN           NaN     NaN               NaN   \n",
              "\n",
              "       key  liveness  loudness  speechiness  tempo  valence  \n",
              "0      NaN       NaN       NaN          NaN    NaN      NaN  \n",
              "1      NaN       NaN       NaN          NaN    NaN      NaN  \n",
              "2      NaN       NaN       NaN          NaN    NaN      NaN  \n",
              "3      NaN       NaN       NaN          NaN    NaN      NaN  \n",
              "4      NaN       NaN       NaN          NaN    NaN      NaN  \n",
              "...    ...       ...       ...          ...    ...      ...  \n",
              "12809  NaN       NaN       NaN          NaN    NaN      NaN  \n",
              "12810  NaN       NaN       NaN          NaN    NaN      NaN  \n",
              "12811  NaN       NaN       NaN          NaN    NaN      NaN  \n",
              "12812  NaN       NaN       NaN          NaN    NaN      NaN  \n",
              "12813  NaN       NaN       NaN          NaN    NaN      NaN  \n",
              "\n",
              "[12814 rows x 16 columns]"
            ],
            "text/html": [
              "\n",
              "  <div id=\"df-cd657276-6ab8-4ae1-8e13-528626f019f5\">\n",
              "    <div class=\"colab-df-container\">\n",
              "      <div>\n",
              "<style scoped>\n",
              "    .dataframe tbody tr th:only-of-type {\n",
              "        vertical-align: middle;\n",
              "    }\n",
              "\n",
              "    .dataframe tbody tr th {\n",
              "        vertical-align: top;\n",
              "    }\n",
              "\n",
              "    .dataframe thead th {\n",
              "        text-align: right;\n",
              "    }\n",
              "</style>\n",
              "<table border=\"1\" class=\"dataframe\">\n",
              "  <thead>\n",
              "    <tr style=\"text-align: right;\">\n",
              "      <th></th>\n",
              "      <th>position</th>\n",
              "      <th>track_name</th>\n",
              "      <th>artist_name</th>\n",
              "      <th>streams</th>\n",
              "      <th>track_url</th>\n",
              "      <th>country</th>\n",
              "      <th>acousticness</th>\n",
              "      <th>danceability</th>\n",
              "      <th>energy</th>\n",
              "      <th>instrumentalness</th>\n",
              "      <th>key</th>\n",
              "      <th>liveness</th>\n",
              "      <th>loudness</th>\n",
              "      <th>speechiness</th>\n",
              "      <th>tempo</th>\n",
              "      <th>valence</th>\n",
              "    </tr>\n",
              "  </thead>\n",
              "  <tbody>\n",
              "    <tr>\n",
              "      <th>0</th>\n",
              "      <td>1</td>\n",
              "      <td>INDUSTRY BABY (feat. Jack Harlow)</td>\n",
              "      <td>Lil Nas X</td>\n",
              "      <td>1640059</td>\n",
              "      <td>https://open.spotify.com/track/5Z9KJZvQzH6PFmb...</td>\n",
              "      <td>United States</td>\n",
              "      <td>NaN</td>\n",
              "      <td>NaN</td>\n",
              "      <td>NaN</td>\n",
              "      <td>NaN</td>\n",
              "      <td>NaN</td>\n",
              "      <td>NaN</td>\n",
              "      <td>NaN</td>\n",
              "      <td>NaN</td>\n",
              "      <td>NaN</td>\n",
              "      <td>NaN</td>\n",
              "    </tr>\n",
              "    <tr>\n",
              "      <th>1</th>\n",
              "      <td>2</td>\n",
              "      <td>STAY (with Justin Bieber)</td>\n",
              "      <td>The Kid LAROI</td>\n",
              "      <td>1392423</td>\n",
              "      <td>https://open.spotify.com/track/5PjdY0CKGZdEuoN...</td>\n",
              "      <td>United States</td>\n",
              "      <td>NaN</td>\n",
              "      <td>NaN</td>\n",
              "      <td>NaN</td>\n",
              "      <td>NaN</td>\n",
              "      <td>NaN</td>\n",
              "      <td>NaN</td>\n",
              "      <td>NaN</td>\n",
              "      <td>NaN</td>\n",
              "      <td>NaN</td>\n",
              "      <td>NaN</td>\n",
              "    </tr>\n",
              "    <tr>\n",
              "      <th>2</th>\n",
              "      <td>3</td>\n",
              "      <td>Way 2 Sexy (with Future &amp; Young Thug)</td>\n",
              "      <td>Drake</td>\n",
              "      <td>1311664</td>\n",
              "      <td>https://open.spotify.com/track/0k1WUmIRnG3xU6f...</td>\n",
              "      <td>United States</td>\n",
              "      <td>NaN</td>\n",
              "      <td>NaN</td>\n",
              "      <td>NaN</td>\n",
              "      <td>NaN</td>\n",
              "      <td>NaN</td>\n",
              "      <td>NaN</td>\n",
              "      <td>NaN</td>\n",
              "      <td>NaN</td>\n",
              "      <td>NaN</td>\n",
              "      <td>NaN</td>\n",
              "    </tr>\n",
              "    <tr>\n",
              "      <th>3</th>\n",
              "      <td>4</td>\n",
              "      <td>Knife Talk (with 21 Savage ft. Project Pat)</td>\n",
              "      <td>Drake</td>\n",
              "      <td>1266467</td>\n",
              "      <td>https://open.spotify.com/track/2BcMwX1MPV6ZHP4...</td>\n",
              "      <td>United States</td>\n",
              "      <td>NaN</td>\n",
              "      <td>NaN</td>\n",
              "      <td>NaN</td>\n",
              "      <td>NaN</td>\n",
              "      <td>NaN</td>\n",
              "      <td>NaN</td>\n",
              "      <td>NaN</td>\n",
              "      <td>NaN</td>\n",
              "      <td>NaN</td>\n",
              "      <td>NaN</td>\n",
              "    </tr>\n",
              "    <tr>\n",
              "      <th>4</th>\n",
              "      <td>5</td>\n",
              "      <td>Heat Waves</td>\n",
              "      <td>Glass Animals</td>\n",
              "      <td>1095757</td>\n",
              "      <td>https://open.spotify.com/track/02MWAaffLxlfxAU...</td>\n",
              "      <td>United States</td>\n",
              "      <td>NaN</td>\n",
              "      <td>NaN</td>\n",
              "      <td>NaN</td>\n",
              "      <td>NaN</td>\n",
              "      <td>NaN</td>\n",
              "      <td>NaN</td>\n",
              "      <td>NaN</td>\n",
              "      <td>NaN</td>\n",
              "      <td>NaN</td>\n",
              "      <td>NaN</td>\n",
              "    </tr>\n",
              "    <tr>\n",
              "      <th>...</th>\n",
              "      <td>...</td>\n",
              "      <td>...</td>\n",
              "      <td>...</td>\n",
              "      <td>...</td>\n",
              "      <td>...</td>\n",
              "      <td>...</td>\n",
              "      <td>...</td>\n",
              "      <td>...</td>\n",
              "      <td>...</td>\n",
              "      <td>...</td>\n",
              "      <td>...</td>\n",
              "      <td>...</td>\n",
              "      <td>...</td>\n",
              "      <td>...</td>\n",
              "      <td>...</td>\n",
              "      <td>...</td>\n",
              "    </tr>\n",
              "    <tr>\n",
              "      <th>12809</th>\n",
              "      <td>196</td>\n",
              "      <td>Mượn Rượu Tỏ Tình</td>\n",
              "      <td>BigDaddy</td>\n",
              "      <td>4370</td>\n",
              "      <td>https://open.spotify.com/track/7y5HF80szyShYXp...</td>\n",
              "      <td>Viet Nam</td>\n",
              "      <td>NaN</td>\n",
              "      <td>NaN</td>\n",
              "      <td>NaN</td>\n",
              "      <td>NaN</td>\n",
              "      <td>NaN</td>\n",
              "      <td>NaN</td>\n",
              "      <td>NaN</td>\n",
              "      <td>NaN</td>\n",
              "      <td>NaN</td>\n",
              "      <td>NaN</td>\n",
              "    </tr>\n",
              "    <tr>\n",
              "      <th>12810</th>\n",
              "      <td>197</td>\n",
              "      <td>Some</td>\n",
              "      <td>BOL4</td>\n",
              "      <td>4359</td>\n",
              "      <td>https://open.spotify.com/track/3jsYQw78lrxJA2y...</td>\n",
              "      <td>Viet Nam</td>\n",
              "      <td>NaN</td>\n",
              "      <td>NaN</td>\n",
              "      <td>NaN</td>\n",
              "      <td>NaN</td>\n",
              "      <td>NaN</td>\n",
              "      <td>NaN</td>\n",
              "      <td>NaN</td>\n",
              "      <td>NaN</td>\n",
              "      <td>NaN</td>\n",
              "      <td>NaN</td>\n",
              "    </tr>\n",
              "    <tr>\n",
              "      <th>12811</th>\n",
              "      <td>198</td>\n",
              "      <td>Nến Và Hoa</td>\n",
              "      <td>Rhymastic</td>\n",
              "      <td>4336</td>\n",
              "      <td>https://open.spotify.com/track/4S0uLMXRoAjFfIJ...</td>\n",
              "      <td>Viet Nam</td>\n",
              "      <td>NaN</td>\n",
              "      <td>NaN</td>\n",
              "      <td>NaN</td>\n",
              "      <td>NaN</td>\n",
              "      <td>NaN</td>\n",
              "      <td>NaN</td>\n",
              "      <td>NaN</td>\n",
              "      <td>NaN</td>\n",
              "      <td>NaN</td>\n",
              "      <td>NaN</td>\n",
              "    </tr>\n",
              "    <tr>\n",
              "      <th>12812</th>\n",
              "      <td>199</td>\n",
              "      <td>Shape of You</td>\n",
              "      <td>Ed Sheeran</td>\n",
              "      <td>4322</td>\n",
              "      <td>https://open.spotify.com/track/7qiZfU4dY1lWllz...</td>\n",
              "      <td>Viet Nam</td>\n",
              "      <td>NaN</td>\n",
              "      <td>NaN</td>\n",
              "      <td>NaN</td>\n",
              "      <td>NaN</td>\n",
              "      <td>NaN</td>\n",
              "      <td>NaN</td>\n",
              "      <td>NaN</td>\n",
              "      <td>NaN</td>\n",
              "      <td>NaN</td>\n",
              "      <td>NaN</td>\n",
              "    </tr>\n",
              "    <tr>\n",
              "      <th>12813</th>\n",
              "      <td>200</td>\n",
              "      <td>Thuong Em La Dieu Anh Khong The Ngo</td>\n",
              "      <td>Noo Phước Thịnh</td>\n",
              "      <td>4318</td>\n",
              "      <td>https://open.spotify.com/track/2gT5LL3uRANxvvm...</td>\n",
              "      <td>Viet Nam</td>\n",
              "      <td>NaN</td>\n",
              "      <td>NaN</td>\n",
              "      <td>NaN</td>\n",
              "      <td>NaN</td>\n",
              "      <td>NaN</td>\n",
              "      <td>NaN</td>\n",
              "      <td>NaN</td>\n",
              "      <td>NaN</td>\n",
              "      <td>NaN</td>\n",
              "      <td>NaN</td>\n",
              "    </tr>\n",
              "  </tbody>\n",
              "</table>\n",
              "<p>12814 rows × 16 columns</p>\n",
              "</div>\n",
              "      <button class=\"colab-df-convert\" onclick=\"convertToInteractive('df-cd657276-6ab8-4ae1-8e13-528626f019f5')\"\n",
              "              title=\"Convert this dataframe to an interactive table.\"\n",
              "              style=\"display:none;\">\n",
              "        \n",
              "  <svg xmlns=\"http://www.w3.org/2000/svg\" height=\"24px\"viewBox=\"0 0 24 24\"\n",
              "       width=\"24px\">\n",
              "    <path d=\"M0 0h24v24H0V0z\" fill=\"none\"/>\n",
              "    <path d=\"M18.56 5.44l.94 2.06.94-2.06 2.06-.94-2.06-.94-.94-2.06-.94 2.06-2.06.94zm-11 1L8.5 8.5l.94-2.06 2.06-.94-2.06-.94L8.5 2.5l-.94 2.06-2.06.94zm10 10l.94 2.06.94-2.06 2.06-.94-2.06-.94-.94-2.06-.94 2.06-2.06.94z\"/><path d=\"M17.41 7.96l-1.37-1.37c-.4-.4-.92-.59-1.43-.59-.52 0-1.04.2-1.43.59L10.3 9.45l-7.72 7.72c-.78.78-.78 2.05 0 2.83L4 21.41c.39.39.9.59 1.41.59.51 0 1.02-.2 1.41-.59l7.78-7.78 2.81-2.81c.8-.78.8-2.07 0-2.86zM5.41 20L4 18.59l7.72-7.72 1.47 1.35L5.41 20z\"/>\n",
              "  </svg>\n",
              "      </button>\n",
              "      \n",
              "  <style>\n",
              "    .colab-df-container {\n",
              "      display:flex;\n",
              "      flex-wrap:wrap;\n",
              "      gap: 12px;\n",
              "    }\n",
              "\n",
              "    .colab-df-convert {\n",
              "      background-color: #E8F0FE;\n",
              "      border: none;\n",
              "      border-radius: 50%;\n",
              "      cursor: pointer;\n",
              "      display: none;\n",
              "      fill: #1967D2;\n",
              "      height: 32px;\n",
              "      padding: 0 0 0 0;\n",
              "      width: 32px;\n",
              "    }\n",
              "\n",
              "    .colab-df-convert:hover {\n",
              "      background-color: #E2EBFA;\n",
              "      box-shadow: 0px 1px 2px rgba(60, 64, 67, 0.3), 0px 1px 3px 1px rgba(60, 64, 67, 0.15);\n",
              "      fill: #174EA6;\n",
              "    }\n",
              "\n",
              "    [theme=dark] .colab-df-convert {\n",
              "      background-color: #3B4455;\n",
              "      fill: #D2E3FC;\n",
              "    }\n",
              "\n",
              "    [theme=dark] .colab-df-convert:hover {\n",
              "      background-color: #434B5C;\n",
              "      box-shadow: 0px 1px 3px 1px rgba(0, 0, 0, 0.15);\n",
              "      filter: drop-shadow(0px 1px 2px rgba(0, 0, 0, 0.3));\n",
              "      fill: #FFFFFF;\n",
              "    }\n",
              "  </style>\n",
              "\n",
              "      <script>\n",
              "        const buttonEl =\n",
              "          document.querySelector('#df-cd657276-6ab8-4ae1-8e13-528626f019f5 button.colab-df-convert');\n",
              "        buttonEl.style.display =\n",
              "          google.colab.kernel.accessAllowed ? 'block' : 'none';\n",
              "\n",
              "        async function convertToInteractive(key) {\n",
              "          const element = document.querySelector('#df-cd657276-6ab8-4ae1-8e13-528626f019f5');\n",
              "          const dataTable =\n",
              "            await google.colab.kernel.invokeFunction('convertToInteractive',\n",
              "                                                     [key], {});\n",
              "          if (!dataTable) return;\n",
              "\n",
              "          const docLinkHtml = 'Like what you see? Visit the ' +\n",
              "            '<a target=\"_blank\" href=https://colab.research.google.com/notebooks/data_table.ipynb>data table notebook</a>'\n",
              "            + ' to learn more about interactive tables.';\n",
              "          element.innerHTML = '';\n",
              "          dataTable['output_type'] = 'display_data';\n",
              "          await google.colab.output.renderOutput(dataTable, element);\n",
              "          const docLink = document.createElement('div');\n",
              "          docLink.innerHTML = docLinkHtml;\n",
              "          element.appendChild(docLink);\n",
              "        }\n",
              "      </script>\n",
              "    </div>\n",
              "  </div>\n",
              "  "
            ]
          },
          "metadata": {},
          "execution_count": 33
        }
      ]
    },
    {
      "cell_type": "code",
      "source": [
        "streams_df = df.copy(deep=True)\n",
        "streams_df = streams_df.drop(axis = 1, labels = 'position')\n",
        "streams_df = streams_df.drop(axis = 1, labels = 'artist_name')\n",
        "streams_df = streams_df.drop(axis = 1, labels = 'track_name')\n",
        "streams = streams_df[\"streams\"]\n",
        "streams"
      ],
      "metadata": {
        "id": "VQ3w3DtasLM9",
        "colab": {
          "base_uri": "https://localhost:8080/"
        },
        "outputId": "c7e885f1-0b21-4a05-eb68-ce9c8811e46a"
      },
      "execution_count": null,
      "outputs": [
        {
          "output_type": "execute_result",
          "data": {
            "text/plain": [
              "0        1640059\n",
              "1        1392423\n",
              "2        1311664\n",
              "3        1266467\n",
              "4        1095757\n",
              "          ...   \n",
              "12809       4370\n",
              "12810       4359\n",
              "12811       4336\n",
              "12812       4322\n",
              "12813       4318\n",
              "Name: streams, Length: 12814, dtype: int64"
            ]
          },
          "metadata": {},
          "execution_count": 34
        }
      ]
    },
    {
      "cell_type": "code",
      "source": [
        "new_df=streams_df.copy(deep=True)\n",
        "i = 0\n",
        "for iterator in new_df.track_url:\n",
        "  a = new_df.track_url[i]\n",
        "  new_df.track_url[i] = a[31:]\n",
        "  i = i+1\n"
      ],
      "metadata": {
        "colab": {
          "base_uri": "https://localhost:8080/"
        },
        "id": "DM2JTZF629OS",
        "outputId": "aaca0374-55aa-476a-b8cc-0ba1467dc0bb"
      },
      "execution_count": null,
      "outputs": [
        {
          "output_type": "stream",
          "name": "stderr",
          "text": [
            "<ipython-input-35-582b9e1c75f4>:5: SettingWithCopyWarning: \n",
            "A value is trying to be set on a copy of a slice from a DataFrame\n",
            "\n",
            "See the caveats in the documentation: https://pandas.pydata.org/pandas-docs/stable/user_guide/indexing.html#returning-a-view-versus-a-copy\n",
            "  new_df.track_url[i] = a[31:]\n"
          ]
        }
      ]
    },
    {
      "cell_type": "code",
      "source": [
        "new_df"
      ],
      "metadata": {
        "colab": {
          "base_uri": "https://localhost:8080/",
          "height": 424
        },
        "id": "n2T1UwaG3H4l",
        "outputId": "eb0acbca-0ccd-47d8-df8e-f80925ea1ae9"
      },
      "execution_count": null,
      "outputs": [
        {
          "output_type": "execute_result",
          "data": {
            "text/plain": [
              "       streams               track_url        country  acousticness  \\\n",
              "0      1640059  5Z9KJZvQzH6PFmb8SNkxuk  United States           NaN   \n",
              "1      1392423  5PjdY0CKGZdEuoNab3yDmX  United States           NaN   \n",
              "2      1311664  0k1WUmIRnG3xU6fvvDVfRG  United States           NaN   \n",
              "3      1266467  2BcMwX1MPV6ZHP4tUT9uq6  United States           NaN   \n",
              "4      1095757  02MWAaffLxlfxAUY7c5dvx  United States           NaN   \n",
              "...        ...                     ...            ...           ...   \n",
              "12809     4370  7y5HF80szyShYXpXTAwYtD       Viet Nam           NaN   \n",
              "12810     4359  3jsYQw78lrxJA2ysnmOIf9       Viet Nam           NaN   \n",
              "12811     4336  4S0uLMXRoAjFfIJOW7A8aW       Viet Nam           NaN   \n",
              "12812     4322  7qiZfU4dY1lWllzX7mPBI3       Viet Nam           NaN   \n",
              "12813     4318  2gT5LL3uRANxvvmDxaULbQ       Viet Nam           NaN   \n",
              "\n",
              "       danceability  energy  instrumentalness  key  liveness  loudness  \\\n",
              "0               NaN     NaN               NaN  NaN       NaN       NaN   \n",
              "1               NaN     NaN               NaN  NaN       NaN       NaN   \n",
              "2               NaN     NaN               NaN  NaN       NaN       NaN   \n",
              "3               NaN     NaN               NaN  NaN       NaN       NaN   \n",
              "4               NaN     NaN               NaN  NaN       NaN       NaN   \n",
              "...             ...     ...               ...  ...       ...       ...   \n",
              "12809           NaN     NaN               NaN  NaN       NaN       NaN   \n",
              "12810           NaN     NaN               NaN  NaN       NaN       NaN   \n",
              "12811           NaN     NaN               NaN  NaN       NaN       NaN   \n",
              "12812           NaN     NaN               NaN  NaN       NaN       NaN   \n",
              "12813           NaN     NaN               NaN  NaN       NaN       NaN   \n",
              "\n",
              "       speechiness  tempo  valence  \n",
              "0              NaN    NaN      NaN  \n",
              "1              NaN    NaN      NaN  \n",
              "2              NaN    NaN      NaN  \n",
              "3              NaN    NaN      NaN  \n",
              "4              NaN    NaN      NaN  \n",
              "...            ...    ...      ...  \n",
              "12809          NaN    NaN      NaN  \n",
              "12810          NaN    NaN      NaN  \n",
              "12811          NaN    NaN      NaN  \n",
              "12812          NaN    NaN      NaN  \n",
              "12813          NaN    NaN      NaN  \n",
              "\n",
              "[12814 rows x 13 columns]"
            ],
            "text/html": [
              "\n",
              "  <div id=\"df-7c0976f1-8c22-4a91-9c5c-0e5bf098d962\">\n",
              "    <div class=\"colab-df-container\">\n",
              "      <div>\n",
              "<style scoped>\n",
              "    .dataframe tbody tr th:only-of-type {\n",
              "        vertical-align: middle;\n",
              "    }\n",
              "\n",
              "    .dataframe tbody tr th {\n",
              "        vertical-align: top;\n",
              "    }\n",
              "\n",
              "    .dataframe thead th {\n",
              "        text-align: right;\n",
              "    }\n",
              "</style>\n",
              "<table border=\"1\" class=\"dataframe\">\n",
              "  <thead>\n",
              "    <tr style=\"text-align: right;\">\n",
              "      <th></th>\n",
              "      <th>streams</th>\n",
              "      <th>track_url</th>\n",
              "      <th>country</th>\n",
              "      <th>acousticness</th>\n",
              "      <th>danceability</th>\n",
              "      <th>energy</th>\n",
              "      <th>instrumentalness</th>\n",
              "      <th>key</th>\n",
              "      <th>liveness</th>\n",
              "      <th>loudness</th>\n",
              "      <th>speechiness</th>\n",
              "      <th>tempo</th>\n",
              "      <th>valence</th>\n",
              "    </tr>\n",
              "  </thead>\n",
              "  <tbody>\n",
              "    <tr>\n",
              "      <th>0</th>\n",
              "      <td>1640059</td>\n",
              "      <td>5Z9KJZvQzH6PFmb8SNkxuk</td>\n",
              "      <td>United States</td>\n",
              "      <td>NaN</td>\n",
              "      <td>NaN</td>\n",
              "      <td>NaN</td>\n",
              "      <td>NaN</td>\n",
              "      <td>NaN</td>\n",
              "      <td>NaN</td>\n",
              "      <td>NaN</td>\n",
              "      <td>NaN</td>\n",
              "      <td>NaN</td>\n",
              "      <td>NaN</td>\n",
              "    </tr>\n",
              "    <tr>\n",
              "      <th>1</th>\n",
              "      <td>1392423</td>\n",
              "      <td>5PjdY0CKGZdEuoNab3yDmX</td>\n",
              "      <td>United States</td>\n",
              "      <td>NaN</td>\n",
              "      <td>NaN</td>\n",
              "      <td>NaN</td>\n",
              "      <td>NaN</td>\n",
              "      <td>NaN</td>\n",
              "      <td>NaN</td>\n",
              "      <td>NaN</td>\n",
              "      <td>NaN</td>\n",
              "      <td>NaN</td>\n",
              "      <td>NaN</td>\n",
              "    </tr>\n",
              "    <tr>\n",
              "      <th>2</th>\n",
              "      <td>1311664</td>\n",
              "      <td>0k1WUmIRnG3xU6fvvDVfRG</td>\n",
              "      <td>United States</td>\n",
              "      <td>NaN</td>\n",
              "      <td>NaN</td>\n",
              "      <td>NaN</td>\n",
              "      <td>NaN</td>\n",
              "      <td>NaN</td>\n",
              "      <td>NaN</td>\n",
              "      <td>NaN</td>\n",
              "      <td>NaN</td>\n",
              "      <td>NaN</td>\n",
              "      <td>NaN</td>\n",
              "    </tr>\n",
              "    <tr>\n",
              "      <th>3</th>\n",
              "      <td>1266467</td>\n",
              "      <td>2BcMwX1MPV6ZHP4tUT9uq6</td>\n",
              "      <td>United States</td>\n",
              "      <td>NaN</td>\n",
              "      <td>NaN</td>\n",
              "      <td>NaN</td>\n",
              "      <td>NaN</td>\n",
              "      <td>NaN</td>\n",
              "      <td>NaN</td>\n",
              "      <td>NaN</td>\n",
              "      <td>NaN</td>\n",
              "      <td>NaN</td>\n",
              "      <td>NaN</td>\n",
              "    </tr>\n",
              "    <tr>\n",
              "      <th>4</th>\n",
              "      <td>1095757</td>\n",
              "      <td>02MWAaffLxlfxAUY7c5dvx</td>\n",
              "      <td>United States</td>\n",
              "      <td>NaN</td>\n",
              "      <td>NaN</td>\n",
              "      <td>NaN</td>\n",
              "      <td>NaN</td>\n",
              "      <td>NaN</td>\n",
              "      <td>NaN</td>\n",
              "      <td>NaN</td>\n",
              "      <td>NaN</td>\n",
              "      <td>NaN</td>\n",
              "      <td>NaN</td>\n",
              "    </tr>\n",
              "    <tr>\n",
              "      <th>...</th>\n",
              "      <td>...</td>\n",
              "      <td>...</td>\n",
              "      <td>...</td>\n",
              "      <td>...</td>\n",
              "      <td>...</td>\n",
              "      <td>...</td>\n",
              "      <td>...</td>\n",
              "      <td>...</td>\n",
              "      <td>...</td>\n",
              "      <td>...</td>\n",
              "      <td>...</td>\n",
              "      <td>...</td>\n",
              "      <td>...</td>\n",
              "    </tr>\n",
              "    <tr>\n",
              "      <th>12809</th>\n",
              "      <td>4370</td>\n",
              "      <td>7y5HF80szyShYXpXTAwYtD</td>\n",
              "      <td>Viet Nam</td>\n",
              "      <td>NaN</td>\n",
              "      <td>NaN</td>\n",
              "      <td>NaN</td>\n",
              "      <td>NaN</td>\n",
              "      <td>NaN</td>\n",
              "      <td>NaN</td>\n",
              "      <td>NaN</td>\n",
              "      <td>NaN</td>\n",
              "      <td>NaN</td>\n",
              "      <td>NaN</td>\n",
              "    </tr>\n",
              "    <tr>\n",
              "      <th>12810</th>\n",
              "      <td>4359</td>\n",
              "      <td>3jsYQw78lrxJA2ysnmOIf9</td>\n",
              "      <td>Viet Nam</td>\n",
              "      <td>NaN</td>\n",
              "      <td>NaN</td>\n",
              "      <td>NaN</td>\n",
              "      <td>NaN</td>\n",
              "      <td>NaN</td>\n",
              "      <td>NaN</td>\n",
              "      <td>NaN</td>\n",
              "      <td>NaN</td>\n",
              "      <td>NaN</td>\n",
              "      <td>NaN</td>\n",
              "    </tr>\n",
              "    <tr>\n",
              "      <th>12811</th>\n",
              "      <td>4336</td>\n",
              "      <td>4S0uLMXRoAjFfIJOW7A8aW</td>\n",
              "      <td>Viet Nam</td>\n",
              "      <td>NaN</td>\n",
              "      <td>NaN</td>\n",
              "      <td>NaN</td>\n",
              "      <td>NaN</td>\n",
              "      <td>NaN</td>\n",
              "      <td>NaN</td>\n",
              "      <td>NaN</td>\n",
              "      <td>NaN</td>\n",
              "      <td>NaN</td>\n",
              "      <td>NaN</td>\n",
              "    </tr>\n",
              "    <tr>\n",
              "      <th>12812</th>\n",
              "      <td>4322</td>\n",
              "      <td>7qiZfU4dY1lWllzX7mPBI3</td>\n",
              "      <td>Viet Nam</td>\n",
              "      <td>NaN</td>\n",
              "      <td>NaN</td>\n",
              "      <td>NaN</td>\n",
              "      <td>NaN</td>\n",
              "      <td>NaN</td>\n",
              "      <td>NaN</td>\n",
              "      <td>NaN</td>\n",
              "      <td>NaN</td>\n",
              "      <td>NaN</td>\n",
              "      <td>NaN</td>\n",
              "    </tr>\n",
              "    <tr>\n",
              "      <th>12813</th>\n",
              "      <td>4318</td>\n",
              "      <td>2gT5LL3uRANxvvmDxaULbQ</td>\n",
              "      <td>Viet Nam</td>\n",
              "      <td>NaN</td>\n",
              "      <td>NaN</td>\n",
              "      <td>NaN</td>\n",
              "      <td>NaN</td>\n",
              "      <td>NaN</td>\n",
              "      <td>NaN</td>\n",
              "      <td>NaN</td>\n",
              "      <td>NaN</td>\n",
              "      <td>NaN</td>\n",
              "      <td>NaN</td>\n",
              "    </tr>\n",
              "  </tbody>\n",
              "</table>\n",
              "<p>12814 rows × 13 columns</p>\n",
              "</div>\n",
              "      <button class=\"colab-df-convert\" onclick=\"convertToInteractive('df-7c0976f1-8c22-4a91-9c5c-0e5bf098d962')\"\n",
              "              title=\"Convert this dataframe to an interactive table.\"\n",
              "              style=\"display:none;\">\n",
              "        \n",
              "  <svg xmlns=\"http://www.w3.org/2000/svg\" height=\"24px\"viewBox=\"0 0 24 24\"\n",
              "       width=\"24px\">\n",
              "    <path d=\"M0 0h24v24H0V0z\" fill=\"none\"/>\n",
              "    <path d=\"M18.56 5.44l.94 2.06.94-2.06 2.06-.94-2.06-.94-.94-2.06-.94 2.06-2.06.94zm-11 1L8.5 8.5l.94-2.06 2.06-.94-2.06-.94L8.5 2.5l-.94 2.06-2.06.94zm10 10l.94 2.06.94-2.06 2.06-.94-2.06-.94-.94-2.06-.94 2.06-2.06.94z\"/><path d=\"M17.41 7.96l-1.37-1.37c-.4-.4-.92-.59-1.43-.59-.52 0-1.04.2-1.43.59L10.3 9.45l-7.72 7.72c-.78.78-.78 2.05 0 2.83L4 21.41c.39.39.9.59 1.41.59.51 0 1.02-.2 1.41-.59l7.78-7.78 2.81-2.81c.8-.78.8-2.07 0-2.86zM5.41 20L4 18.59l7.72-7.72 1.47 1.35L5.41 20z\"/>\n",
              "  </svg>\n",
              "      </button>\n",
              "      \n",
              "  <style>\n",
              "    .colab-df-container {\n",
              "      display:flex;\n",
              "      flex-wrap:wrap;\n",
              "      gap: 12px;\n",
              "    }\n",
              "\n",
              "    .colab-df-convert {\n",
              "      background-color: #E8F0FE;\n",
              "      border: none;\n",
              "      border-radius: 50%;\n",
              "      cursor: pointer;\n",
              "      display: none;\n",
              "      fill: #1967D2;\n",
              "      height: 32px;\n",
              "      padding: 0 0 0 0;\n",
              "      width: 32px;\n",
              "    }\n",
              "\n",
              "    .colab-df-convert:hover {\n",
              "      background-color: #E2EBFA;\n",
              "      box-shadow: 0px 1px 2px rgba(60, 64, 67, 0.3), 0px 1px 3px 1px rgba(60, 64, 67, 0.15);\n",
              "      fill: #174EA6;\n",
              "    }\n",
              "\n",
              "    [theme=dark] .colab-df-convert {\n",
              "      background-color: #3B4455;\n",
              "      fill: #D2E3FC;\n",
              "    }\n",
              "\n",
              "    [theme=dark] .colab-df-convert:hover {\n",
              "      background-color: #434B5C;\n",
              "      box-shadow: 0px 1px 3px 1px rgba(0, 0, 0, 0.15);\n",
              "      filter: drop-shadow(0px 1px 2px rgba(0, 0, 0, 0.3));\n",
              "      fill: #FFFFFF;\n",
              "    }\n",
              "  </style>\n",
              "\n",
              "      <script>\n",
              "        const buttonEl =\n",
              "          document.querySelector('#df-7c0976f1-8c22-4a91-9c5c-0e5bf098d962 button.colab-df-convert');\n",
              "        buttonEl.style.display =\n",
              "          google.colab.kernel.accessAllowed ? 'block' : 'none';\n",
              "\n",
              "        async function convertToInteractive(key) {\n",
              "          const element = document.querySelector('#df-7c0976f1-8c22-4a91-9c5c-0e5bf098d962');\n",
              "          const dataTable =\n",
              "            await google.colab.kernel.invokeFunction('convertToInteractive',\n",
              "                                                     [key], {});\n",
              "          if (!dataTable) return;\n",
              "\n",
              "          const docLinkHtml = 'Like what you see? Visit the ' +\n",
              "            '<a target=\"_blank\" href=https://colab.research.google.com/notebooks/data_table.ipynb>data table notebook</a>'\n",
              "            + ' to learn more about interactive tables.';\n",
              "          element.innerHTML = '';\n",
              "          dataTable['output_type'] = 'display_data';\n",
              "          await google.colab.output.renderOutput(dataTable, element);\n",
              "          const docLink = document.createElement('div');\n",
              "          docLink.innerHTML = docLinkHtml;\n",
              "          element.appendChild(docLink);\n",
              "        }\n",
              "      </script>\n",
              "    </div>\n",
              "  </div>\n",
              "  "
            ]
          },
          "metadata": {},
          "execution_count": 36
        }
      ]
    },
    {
      "cell_type": "code",
      "source": [
        "import requests\n",
        "\n",
        "client_id = \"c11d0217b4d748e3a3bbb91b096d6fa0\"\n",
        "client_secret = \"24f193fbe9954566b4ccb4cf299996cf\"   \n",
        "\n",
        "AUTH_URL = 'https://accounts.spotify.com/api/token'\n",
        "\n",
        "auth_response = requests.post(AUTH_URL, {\n",
        "    'grant_type': 'client_credentials',\n",
        "    'client_id': client_id,\n",
        "    'client_secret': client_secret,\n",
        "})\n",
        "\n",
        "auth_response_data = auth_response.json()\n",
        "\n",
        "access_token = auth_response_data['access_token']\n"
      ],
      "metadata": {
        "id": "4u0NF0RM3LdF"
      },
      "execution_count": 122,
      "outputs": []
    },
    {
      "cell_type": "code",
      "source": [
        "headers = {\n",
        "    'Authorization': 'Bearer {token}'.format(token=access_token)\n",
        "}\n"
      ],
      "metadata": {
        "id": "_miLYLcI3aOA"
      },
      "execution_count": 123,
      "outputs": []
    },
    {
      "cell_type": "code",
      "source": [
        "new_df=pd.read_csv('usa.csv','\\t')"
      ],
      "metadata": {
        "colab": {
          "base_uri": "https://localhost:8080/"
        },
        "id": "UAN63QUyVWm0",
        "outputId": "a178eee2-f3b3-4ed2-d332-7cb74ec62ef6"
      },
      "execution_count": 109,
      "outputs": [
        {
          "output_type": "stream",
          "name": "stderr",
          "text": [
            "<ipython-input-109-16004ca625af>:1: FutureWarning: In a future version of pandas all arguments of read_csv except for the argument 'filepath_or_buffer' will be keyword-only.\n",
            "  new_df=pd.read_csv('usa.csv','\\t')\n"
          ]
        }
      ]
    },
    {
      "cell_type": "code",
      "source": [
        "print(new_df['sel title'])"
      ],
      "metadata": {
        "colab": {
          "base_uri": "https://localhost:8080/"
        },
        "id": "e0W-IA_KVbj7",
        "outputId": "43da525e-fdc4-4e62-a42c-f1a9e5fa4cf8"
      },
      "execution_count": 112,
      "outputs": [
        {
          "output_type": "stream",
          "name": "stdout",
          "text": [
            "0                                    1   Sweater Weather\n",
            "1                                      2   I Love You So\n",
            "2                                  3   Happier Than Ever\n",
            "3                                           4   Dark Red\n",
            "4                                            5   traitor\n",
            "                             ...                        \n",
            "195                                             41  Body\n",
            "196    42  Last One Standing (feat. Polo G, Mozzy & E...\n",
            "197                                        43  Pipe Down\n",
            "198                                 44  Get Along Better\n",
            "199                            45  Love All (with JAY-Z)\n",
            "Name: sel title, Length: 200, dtype: object\n"
          ]
        }
      ]
    },
    {
      "cell_type": "code",
      "source": [
        "def recursive_items(dictionary):\n",
        "    for key, value in dictionary.items():\n",
        "        if type(value) is dict:\n",
        "            yield from recursive_items(value)\n",
        "        else:\n",
        "            yield (key, value)\n"
      ],
      "metadata": {
        "id": "f_rdOhSKYNdB"
      },
      "execution_count": 136,
      "outputs": []
    },
    {
      "cell_type": "code",
      "source": [],
      "metadata": {
        "id": "JO2TS2q5YNYX"
      },
      "execution_count": null,
      "outputs": []
    },
    {
      "cell_type": "code",
      "source": [
        "import warnings\n",
        "warnings.filterwarnings(\"ignore\")"
      ],
      "metadata": {
        "id": "BDMGsEUDa-Fr"
      },
      "execution_count": 164,
      "outputs": []
    },
    {
      "cell_type": "code",
      "source": [
        "import json\n",
        "import requests\n",
        "BASE_URL = 'https://api.spotify.com/v1/'\n",
        "count = 0\n",
        "count = count - 1\n",
        "for i in range(len(new_df['sel title'])):\n",
        "  try:\n",
        "    title=new_df['sel title'][i].split(\" \")[1:]\n",
        "  except:\n",
        "    print(i)\n",
        "    continue\n",
        "  artist=new_df['artist'][i]\n",
        "  title=\" \".join(title)\n",
        "  trackname=BASE_URL+\"search?q=track:\"+title+\"%20artist\"+artist+ \"&type=track\"\n",
        "  r = requests.get(trackname, headers=headers).json()\n",
        "  try:\n",
        "    track_id=r['tracks']['items'][0]['id']\n",
        "  except:\n",
        "    print(title)\n",
        "    continue\n",
        "  # track_id = new_df.track_url[i]\n",
        "  r = requests.get(BASE_URL + 'audio-features/' + track_id, headers=headers)\n",
        "  r = r.json()\n",
        "  try:\n",
        "    new_df.loc[\"acousticness\",count] = r[\"acousticness\"]\n",
        "    new_df.loc[\"danceability\",count] = r[\"danceability\"]\n",
        "    new_df[\"energy\",count] = r[\"energy\"]\n",
        "    new_df[\"instrumentalness\",count] = r[\"instrumentalness\"]\n",
        "    new_df[\"key\",count] = r[\"key\"]\n",
        "    new_df[\"liveness\",count] = r[\"liveness\"]\n",
        "    new_df[\"loudness\",count] = r[\"loudness\"]\n",
        "    new_df[\"speechiness\",count] = r[\"speechiness\"]\n",
        "    new_df[\"tempo\",count] = r[\"tempo\"]\n",
        "    new_df[\"valence\",count] = r[\"valence\"]\n",
        "    count = count+1\n",
        "  except:\n",
        "    break\n"
      ],
      "metadata": {
        "colab": {
          "base_uri": "https://localhost:8080/"
        },
        "id": "JH_TvXJ93c2-",
        "outputId": "a72ebab0-7401-4949-a7d2-9141e0ab1845"
      },
      "execution_count": 165,
      "outputs": [
        {
          "output_type": "stream",
          "name": "stdout",
          "text": [
            "All Too Well (Sad Girl Autumn Version) - Recorded at Long Pond Studios\n",
            "Better Man (Taylor's Version) (From The Vault)\n",
            "Let It Snow! Let It Snow! Let It Snow!\n",
            "You All Over Me (feat. Maren Morris) (Taylor’s Version) (From The Vault)\n",
            "24\n",
            "DOLLA SIGN SLIME (feat. Megan Thee Stallion)\n",
            "Let It Snow! Let It Snow! Let It Snow! (with The B. Swanson Quartet)\n",
            "Thriller - 2003 Edit\n",
            "Spooky, Scary Skeletons - Undead Tombstone Remix\n",
            "Ghostbusters\n",
            "The Christmas Song (Merry Christmas To You)\n",
            "Underneath the Tree\n",
            "Beat Box 3 (feat. DaBaby)\n",
            "Betrayal (feat. Drake)\n",
            "A Holly Jolly Christmas\n",
            "All Too Well (Taylor's Version)\n",
            "Wonderful Christmastime - Edited Version / Remastered 2011\n",
            "Best I Ever Had Remix\n",
            "Junya\n",
            "Gasoline (feat. Taylor Swift)\n",
            "Run Rudolph Run\n",
            "Blue Christmas\n",
            "Carol of the Bells\n",
            "Better Believe\n",
            "It's Beginning to Look a Lot like Christmas\n",
            "Demon High\n",
            "White Christmas\n",
            "God Breathed\n",
            "someone like u - interlude\n",
            "Jingle Bells - Remastered 1999\n",
            "Santa Claus Is Coming To Town\n",
            "Feels (feat. Khalid)\n",
            "Monster Mash\n",
            "Feliz Navidad\n",
            "Chi-Raq (with G Herbo)\n",
            "Holly Jolly Christmas\n",
            "Christmas (Baby Please Come Home)\n",
            "Working for the Knife\n",
            "Crocodile Teeth (with Skillibeng) - Remix\n",
            "I Want Candy\n",
            "Halloween Theme - Main Title\n",
            "It's the Most Wonderful Time of the Year\n",
            "Came Out (feat. Lil Keed)\n",
            "Treacherous (Taylor's Version)\n",
            "Banana Boat Song\n",
            "Superstar (feat. Future)\n",
            "This Is Halloween - Soundtrack\n",
            "Good News\n",
            "Not Like Me\n",
            "Tu Veneno\n",
            "Get with You\n",
            "200\n",
            "201\n"
          ]
        }
      ]
    },
    {
      "cell_type": "code",
      "source": [],
      "metadata": {
        "colab": {
          "base_uri": "https://localhost:8080/",
          "height": 536
        },
        "id": "_CpPGCxv3gik",
        "outputId": "882b8bd3-6e43-4803-d028-a61cdaa5b282"
      },
      "execution_count": 175,
      "outputs": [
        {
          "output_type": "error",
          "ename": "KeyError",
          "evalue": "ignored",
          "traceback": [
            "\u001b[0;31m---------------------------------------------------------------------------\u001b[0m",
            "\u001b[0;31mKeyError\u001b[0m                                  Traceback (most recent call last)",
            "\u001b[0;32m/usr/local/lib/python3.9/dist-packages/pandas/core/indexes/base.py\u001b[0m in \u001b[0;36mget_loc\u001b[0;34m(self, key, method, tolerance)\u001b[0m\n\u001b[1;32m   3801\u001b[0m             \u001b[0;32mtry\u001b[0m\u001b[0;34m:\u001b[0m\u001b[0;34m\u001b[0m\u001b[0;34m\u001b[0m\u001b[0m\n\u001b[0;32m-> 3802\u001b[0;31m                 \u001b[0;32mreturn\u001b[0m \u001b[0mself\u001b[0m\u001b[0;34m.\u001b[0m\u001b[0m_engine\u001b[0m\u001b[0;34m.\u001b[0m\u001b[0mget_loc\u001b[0m\u001b[0;34m(\u001b[0m\u001b[0mcasted_key\u001b[0m\u001b[0;34m)\u001b[0m\u001b[0;34m\u001b[0m\u001b[0;34m\u001b[0m\u001b[0m\n\u001b[0m\u001b[1;32m   3803\u001b[0m             \u001b[0;32mexcept\u001b[0m \u001b[0mKeyError\u001b[0m \u001b[0;32mas\u001b[0m \u001b[0merr\u001b[0m\u001b[0;34m:\u001b[0m\u001b[0;34m\u001b[0m\u001b[0;34m\u001b[0m\u001b[0m\n",
            "\u001b[0;32m/usr/local/lib/python3.9/dist-packages/pandas/_libs/index.pyx\u001b[0m in \u001b[0;36mpandas._libs.index.IndexEngine.get_loc\u001b[0;34m()\u001b[0m\n",
            "\u001b[0;32m/usr/local/lib/python3.9/dist-packages/pandas/_libs/index.pyx\u001b[0m in \u001b[0;36mpandas._libs.index.IndexEngine.get_loc\u001b[0;34m()\u001b[0m\n",
            "\u001b[0;32mpandas/_libs/hashtable_class_helper.pxi\u001b[0m in \u001b[0;36mpandas._libs.hashtable.PyObjectHashTable.get_item\u001b[0;34m()\u001b[0m\n",
            "\u001b[0;32mpandas/_libs/hashtable_class_helper.pxi\u001b[0m in \u001b[0;36mpandas._libs.hashtable.PyObjectHashTable.get_item\u001b[0;34m()\u001b[0m\n",
            "\u001b[0;31mKeyError\u001b[0m: \"('valence', 146']\"",
            "\nThe above exception was the direct cause of the following exception:\n",
            "\u001b[0;31mKeyError\u001b[0m                                  Traceback (most recent call last)",
            "\u001b[0;32m<ipython-input-175-997a5cc63327>\u001b[0m in \u001b[0;36m<cell line: 1>\u001b[0;34m()\u001b[0m\n\u001b[0;32m----> 1\u001b[0;31m \u001b[0mprint\u001b[0m\u001b[0;34m(\u001b[0m\u001b[0mnew_df\u001b[0m\u001b[0;34m[\u001b[0m\u001b[0;34m\"('valence', 146']\"\u001b[0m\u001b[0;34m]\u001b[0m\u001b[0;34m)\u001b[0m\u001b[0;34m\u001b[0m\u001b[0;34m\u001b[0m\u001b[0m\n\u001b[0m",
            "\u001b[0;32m/usr/local/lib/python3.9/dist-packages/pandas/core/frame.py\u001b[0m in \u001b[0;36m__getitem__\u001b[0;34m(self, key)\u001b[0m\n\u001b[1;32m   3805\u001b[0m             \u001b[0;32mif\u001b[0m \u001b[0mself\u001b[0m\u001b[0;34m.\u001b[0m\u001b[0mcolumns\u001b[0m\u001b[0;34m.\u001b[0m\u001b[0mnlevels\u001b[0m \u001b[0;34m>\u001b[0m \u001b[0;36m1\u001b[0m\u001b[0;34m:\u001b[0m\u001b[0;34m\u001b[0m\u001b[0;34m\u001b[0m\u001b[0m\n\u001b[1;32m   3806\u001b[0m                 \u001b[0;32mreturn\u001b[0m \u001b[0mself\u001b[0m\u001b[0;34m.\u001b[0m\u001b[0m_getitem_multilevel\u001b[0m\u001b[0;34m(\u001b[0m\u001b[0mkey\u001b[0m\u001b[0;34m)\u001b[0m\u001b[0;34m\u001b[0m\u001b[0;34m\u001b[0m\u001b[0m\n\u001b[0;32m-> 3807\u001b[0;31m             \u001b[0mindexer\u001b[0m \u001b[0;34m=\u001b[0m \u001b[0mself\u001b[0m\u001b[0;34m.\u001b[0m\u001b[0mcolumns\u001b[0m\u001b[0;34m.\u001b[0m\u001b[0mget_loc\u001b[0m\u001b[0;34m(\u001b[0m\u001b[0mkey\u001b[0m\u001b[0;34m)\u001b[0m\u001b[0;34m\u001b[0m\u001b[0;34m\u001b[0m\u001b[0m\n\u001b[0m\u001b[1;32m   3808\u001b[0m             \u001b[0;32mif\u001b[0m \u001b[0mis_integer\u001b[0m\u001b[0;34m(\u001b[0m\u001b[0mindexer\u001b[0m\u001b[0;34m)\u001b[0m\u001b[0;34m:\u001b[0m\u001b[0;34m\u001b[0m\u001b[0;34m\u001b[0m\u001b[0m\n\u001b[1;32m   3809\u001b[0m                 \u001b[0mindexer\u001b[0m \u001b[0;34m=\u001b[0m \u001b[0;34m[\u001b[0m\u001b[0mindexer\u001b[0m\u001b[0;34m]\u001b[0m\u001b[0;34m\u001b[0m\u001b[0;34m\u001b[0m\u001b[0m\n",
            "\u001b[0;32m/usr/local/lib/python3.9/dist-packages/pandas/core/indexes/base.py\u001b[0m in \u001b[0;36mget_loc\u001b[0;34m(self, key, method, tolerance)\u001b[0m\n\u001b[1;32m   3802\u001b[0m                 \u001b[0;32mreturn\u001b[0m \u001b[0mself\u001b[0m\u001b[0;34m.\u001b[0m\u001b[0m_engine\u001b[0m\u001b[0;34m.\u001b[0m\u001b[0mget_loc\u001b[0m\u001b[0;34m(\u001b[0m\u001b[0mcasted_key\u001b[0m\u001b[0;34m)\u001b[0m\u001b[0;34m\u001b[0m\u001b[0;34m\u001b[0m\u001b[0m\n\u001b[1;32m   3803\u001b[0m             \u001b[0;32mexcept\u001b[0m \u001b[0mKeyError\u001b[0m \u001b[0;32mas\u001b[0m \u001b[0merr\u001b[0m\u001b[0;34m:\u001b[0m\u001b[0;34m\u001b[0m\u001b[0;34m\u001b[0m\u001b[0m\n\u001b[0;32m-> 3804\u001b[0;31m                 \u001b[0;32mraise\u001b[0m \u001b[0mKeyError\u001b[0m\u001b[0;34m(\u001b[0m\u001b[0mkey\u001b[0m\u001b[0;34m)\u001b[0m \u001b[0;32mfrom\u001b[0m \u001b[0merr\u001b[0m\u001b[0;34m\u001b[0m\u001b[0;34m\u001b[0m\u001b[0m\n\u001b[0m\u001b[1;32m   3805\u001b[0m             \u001b[0;32mexcept\u001b[0m \u001b[0mTypeError\u001b[0m\u001b[0;34m:\u001b[0m\u001b[0;34m\u001b[0m\u001b[0;34m\u001b[0m\u001b[0m\n\u001b[1;32m   3806\u001b[0m                 \u001b[0;31m# If we have a listlike key, _check_indexing_error will raise\u001b[0m\u001b[0;34m\u001b[0m\u001b[0;34m\u001b[0m\u001b[0m\n",
            "\u001b[0;31mKeyError\u001b[0m: \"('valence', 146']\""
          ]
        }
      ]
    },
    {
      "cell_type": "code",
      "source": [
        "new_df.to_csv(\"/content/drive/MyDrive/vals_mmt.csv\", sep=',')"
      ],
      "metadata": {
        "id": "BHRsqmrE66cz",
        "colab": {
          "base_uri": "https://localhost:8080/",
          "height": 165
        },
        "outputId": "9325f9f1-1236-4f1d-93da-8470347cf6d4"
      },
      "execution_count": null,
      "outputs": [
        {
          "output_type": "error",
          "ename": "NameError",
          "evalue": "ignored",
          "traceback": [
            "\u001b[0;31m---------------------------------------------------------------------------\u001b[0m",
            "\u001b[0;31mNameError\u001b[0m                                 Traceback (most recent call last)",
            "\u001b[0;32m<ipython-input-10-51a5014fcff0>\u001b[0m in \u001b[0;36m<cell line: 1>\u001b[0;34m()\u001b[0m\n\u001b[0;32m----> 1\u001b[0;31m \u001b[0mnew_df\u001b[0m\u001b[0;34m.\u001b[0m\u001b[0mto_csv\u001b[0m\u001b[0;34m(\u001b[0m\u001b[0;34m\"/content/drive/MyDrive/vals_mmt.csv\"\u001b[0m\u001b[0;34m,\u001b[0m \u001b[0msep\u001b[0m\u001b[0;34m=\u001b[0m\u001b[0;34m','\u001b[0m\u001b[0;34m)\u001b[0m\u001b[0;34m\u001b[0m\u001b[0;34m\u001b[0m\u001b[0m\n\u001b[0m",
            "\u001b[0;31mNameError\u001b[0m: name 'new_df' is not defined"
          ]
        }
      ]
    },
    {
      "cell_type": "code",
      "source": [
        "!cp /content/drive/MyDrive/archive.zip .\n",
        "!unzip archive.zip"
      ],
      "metadata": {
        "id": "nN6jGHUw8wTj",
        "colab": {
          "base_uri": "https://localhost:8080/"
        },
        "outputId": "8aef518d-c498-4f61-e001-51f02bfc54f4"
      },
      "execution_count": null,
      "outputs": [
        {
          "output_type": "stream",
          "name": "stdout",
          "text": [
            "Archive:  archive.zip\n",
            "  inflating: charts.csv              \n"
          ]
        }
      ]
    },
    {
      "cell_type": "code",
      "source": [
        "import pandas as pd\n",
        "df=pd.read_csv(\"/content/charts.csv\")"
      ],
      "metadata": {
        "id": "KLuPnJcX9cM6"
      },
      "execution_count": null,
      "outputs": []
    },
    {
      "cell_type": "code",
      "source": [
        "df.drop(df.loc[df['chart']==\"viral50\"].index, inplace=True)\n",
        "def filter_rows_by_values(df, col, values):\n",
        "    return df[~df[col].isin(values)]\n",
        "df=filter_rows_by_values(df,\"region\",['Australia', 'Brazil', 'Austria', 'Belgium', 'Colombia', 'Bolivia',\n",
        "       'Denmark', 'Bulgaria', 'Canada', 'Chile', 'Costa Rica',\n",
        "       'Czech Republic', 'Finland', 'Dominican Republic', 'Ecuador',\n",
        "       'El Salvador', 'Estonia', 'France', 'Germany', 'Global', 'Greece',\n",
        "       'Guatemala', 'Honduras', 'Hong Kong', 'Hungary', 'Iceland',\n",
        "       'Indonesia', 'Ireland', 'Italy', 'Japan', 'Latvia', 'Lithuania',\n",
        "       'Malaysia', 'Luxembourg', 'Mexico', 'Netherlands', 'New Zealand',\n",
        "       'Nicaragua', 'Norway', 'Panama', 'Paraguay', 'Peru', 'Philippines',\n",
        "       'Poland', 'Portugal', 'Singapore', 'Spain', 'Slovakia', 'Sweden',\n",
        "       'Taiwan', 'Switzerland', 'Turkey', 'United Kingdom', 'Uruguay',\n",
        "       'Thailand', 'Vietnam', 'Egypt', 'Israel', 'Morocco', 'Romania',\n",
        "       'Saudi Arabia', 'South Africa', 'United Arab Emirates', 'Russia',\n",
        "       'Ukraine'])\n",
        "df['date'] = pd.to_datetime(df['date'])\n",
        "res = df[~(df['date'] < '2021-01-01')]\n",
        "df=res"
      ],
      "metadata": {
        "id": "KQverAMiCJL-"
      },
      "execution_count": null,
      "outputs": []
    },
    {
      "cell_type": "code",
      "source": [
        "# sk=res[res[\"region\"]==\"South Korea\"]\n",
        "# sk"
      ],
      "metadata": {
        "colab": {
          "base_uri": "https://localhost:8080/",
          "height": 713
        },
        "id": "F8jTkH1ZaC0_",
        "outputId": "7ff6a2fd-9355-447c-e9f9-65008e4ebcdb"
      },
      "execution_count": null,
      "outputs": [
        {
          "output_type": "execute_result",
          "data": {
            "text/plain": [
              "                                         title  rank       date  \\\n",
              "14499629                                  Moon   192 2021-07-01   \n",
              "14504405                                Butter     1 2021-07-01   \n",
              "14504406                            Next Level     2 2021-07-01   \n",
              "14504407                            Bad Habits     3 2021-07-01   \n",
              "14504408                              Dynamite     4 2021-07-01   \n",
              "...                                        ...   ...        ...   \n",
              "24875334                         I Love You So   196 2021-10-31   \n",
              "24875335                                A Walk   197 2021-10-31   \n",
              "24875336                                 34+35   198 2021-10-31   \n",
              "24875337                               Anymore   199 2021-10-31   \n",
              "24875338  I Will Go To You Like the First Snow   200 2021-10-31   \n",
              "\n",
              "                 artist                                                url  \\\n",
              "14499629            BTS  https://open.spotify.com/track/1kBDdMMhlNZtfa1...   \n",
              "14504405            BTS  https://open.spotify.com/track/2bgTY4UwhfBYhGT...   \n",
              "14504406          aespa  https://open.spotify.com/track/2zrhoHlFKxFTRF5...   \n",
              "14504407     Ed Sheeran  https://open.spotify.com/track/6PQ88X9TkUIAUIZ...   \n",
              "14504408            BTS  https://open.spotify.com/track/4saklk6nie3yiGe...   \n",
              "...                 ...                                                ...   \n",
              "24875334    The Walters  https://open.spotify.com/track/4SqWKzw0CbA05TG...   \n",
              "24875335     Yerin Baek  https://open.spotify.com/track/07o59OvDiUuVpAb...   \n",
              "24875336  Ariana Grande  https://open.spotify.com/track/6Im9k8u9iIzKMrm...   \n",
              "24875337      JEON SOMI  https://open.spotify.com/track/6GwtJzM3yffZ4FJ...   \n",
              "24875338          AILEE  https://open.spotify.com/track/2BPXILn0MqOe5Wr...   \n",
              "\n",
              "               region   chart          trend  streams  \n",
              "14499629  South Korea  top200      MOVE_DOWN   1574.0  \n",
              "14504405  South Korea  top200  SAME_POSITION  27470.0  \n",
              "14504406  South Korea  top200  SAME_POSITION  19314.0  \n",
              "14504407  South Korea  top200  SAME_POSITION  14304.0  \n",
              "14504408  South Korea  top200        MOVE_UP  12398.0  \n",
              "...               ...     ...            ...      ...  \n",
              "24875334  South Korea  top200      MOVE_DOWN   1291.0  \n",
              "24875335  South Korea  top200      MOVE_DOWN   1291.0  \n",
              "24875336  South Korea  top200      MOVE_DOWN   1286.0  \n",
              "24875337  South Korea  top200      MOVE_DOWN   1286.0  \n",
              "24875338  South Korea  top200      NEW_ENTRY   1286.0  \n",
              "\n",
              "[59576 rows x 9 columns]"
            ],
            "text/html": [
              "\n",
              "  <div id=\"df-3828a95c-4988-424f-ac1d-f88a65cd9576\">\n",
              "    <div class=\"colab-df-container\">\n",
              "      <div>\n",
              "<style scoped>\n",
              "    .dataframe tbody tr th:only-of-type {\n",
              "        vertical-align: middle;\n",
              "    }\n",
              "\n",
              "    .dataframe tbody tr th {\n",
              "        vertical-align: top;\n",
              "    }\n",
              "\n",
              "    .dataframe thead th {\n",
              "        text-align: right;\n",
              "    }\n",
              "</style>\n",
              "<table border=\"1\" class=\"dataframe\">\n",
              "  <thead>\n",
              "    <tr style=\"text-align: right;\">\n",
              "      <th></th>\n",
              "      <th>title</th>\n",
              "      <th>rank</th>\n",
              "      <th>date</th>\n",
              "      <th>artist</th>\n",
              "      <th>url</th>\n",
              "      <th>region</th>\n",
              "      <th>chart</th>\n",
              "      <th>trend</th>\n",
              "      <th>streams</th>\n",
              "    </tr>\n",
              "  </thead>\n",
              "  <tbody>\n",
              "    <tr>\n",
              "      <th>14499629</th>\n",
              "      <td>Moon</td>\n",
              "      <td>192</td>\n",
              "      <td>2021-07-01</td>\n",
              "      <td>BTS</td>\n",
              "      <td>https://open.spotify.com/track/1kBDdMMhlNZtfa1...</td>\n",
              "      <td>South Korea</td>\n",
              "      <td>top200</td>\n",
              "      <td>MOVE_DOWN</td>\n",
              "      <td>1574.0</td>\n",
              "    </tr>\n",
              "    <tr>\n",
              "      <th>14504405</th>\n",
              "      <td>Butter</td>\n",
              "      <td>1</td>\n",
              "      <td>2021-07-01</td>\n",
              "      <td>BTS</td>\n",
              "      <td>https://open.spotify.com/track/2bgTY4UwhfBYhGT...</td>\n",
              "      <td>South Korea</td>\n",
              "      <td>top200</td>\n",
              "      <td>SAME_POSITION</td>\n",
              "      <td>27470.0</td>\n",
              "    </tr>\n",
              "    <tr>\n",
              "      <th>14504406</th>\n",
              "      <td>Next Level</td>\n",
              "      <td>2</td>\n",
              "      <td>2021-07-01</td>\n",
              "      <td>aespa</td>\n",
              "      <td>https://open.spotify.com/track/2zrhoHlFKxFTRF5...</td>\n",
              "      <td>South Korea</td>\n",
              "      <td>top200</td>\n",
              "      <td>SAME_POSITION</td>\n",
              "      <td>19314.0</td>\n",
              "    </tr>\n",
              "    <tr>\n",
              "      <th>14504407</th>\n",
              "      <td>Bad Habits</td>\n",
              "      <td>3</td>\n",
              "      <td>2021-07-01</td>\n",
              "      <td>Ed Sheeran</td>\n",
              "      <td>https://open.spotify.com/track/6PQ88X9TkUIAUIZ...</td>\n",
              "      <td>South Korea</td>\n",
              "      <td>top200</td>\n",
              "      <td>SAME_POSITION</td>\n",
              "      <td>14304.0</td>\n",
              "    </tr>\n",
              "    <tr>\n",
              "      <th>14504408</th>\n",
              "      <td>Dynamite</td>\n",
              "      <td>4</td>\n",
              "      <td>2021-07-01</td>\n",
              "      <td>BTS</td>\n",
              "      <td>https://open.spotify.com/track/4saklk6nie3yiGe...</td>\n",
              "      <td>South Korea</td>\n",
              "      <td>top200</td>\n",
              "      <td>MOVE_UP</td>\n",
              "      <td>12398.0</td>\n",
              "    </tr>\n",
              "    <tr>\n",
              "      <th>...</th>\n",
              "      <td>...</td>\n",
              "      <td>...</td>\n",
              "      <td>...</td>\n",
              "      <td>...</td>\n",
              "      <td>...</td>\n",
              "      <td>...</td>\n",
              "      <td>...</td>\n",
              "      <td>...</td>\n",
              "      <td>...</td>\n",
              "    </tr>\n",
              "    <tr>\n",
              "      <th>24875334</th>\n",
              "      <td>I Love You So</td>\n",
              "      <td>196</td>\n",
              "      <td>2021-10-31</td>\n",
              "      <td>The Walters</td>\n",
              "      <td>https://open.spotify.com/track/4SqWKzw0CbA05TG...</td>\n",
              "      <td>South Korea</td>\n",
              "      <td>top200</td>\n",
              "      <td>MOVE_DOWN</td>\n",
              "      <td>1291.0</td>\n",
              "    </tr>\n",
              "    <tr>\n",
              "      <th>24875335</th>\n",
              "      <td>A Walk</td>\n",
              "      <td>197</td>\n",
              "      <td>2021-10-31</td>\n",
              "      <td>Yerin Baek</td>\n",
              "      <td>https://open.spotify.com/track/07o59OvDiUuVpAb...</td>\n",
              "      <td>South Korea</td>\n",
              "      <td>top200</td>\n",
              "      <td>MOVE_DOWN</td>\n",
              "      <td>1291.0</td>\n",
              "    </tr>\n",
              "    <tr>\n",
              "      <th>24875336</th>\n",
              "      <td>34+35</td>\n",
              "      <td>198</td>\n",
              "      <td>2021-10-31</td>\n",
              "      <td>Ariana Grande</td>\n",
              "      <td>https://open.spotify.com/track/6Im9k8u9iIzKMrm...</td>\n",
              "      <td>South Korea</td>\n",
              "      <td>top200</td>\n",
              "      <td>MOVE_DOWN</td>\n",
              "      <td>1286.0</td>\n",
              "    </tr>\n",
              "    <tr>\n",
              "      <th>24875337</th>\n",
              "      <td>Anymore</td>\n",
              "      <td>199</td>\n",
              "      <td>2021-10-31</td>\n",
              "      <td>JEON SOMI</td>\n",
              "      <td>https://open.spotify.com/track/6GwtJzM3yffZ4FJ...</td>\n",
              "      <td>South Korea</td>\n",
              "      <td>top200</td>\n",
              "      <td>MOVE_DOWN</td>\n",
              "      <td>1286.0</td>\n",
              "    </tr>\n",
              "    <tr>\n",
              "      <th>24875338</th>\n",
              "      <td>I Will Go To You Like the First Snow</td>\n",
              "      <td>200</td>\n",
              "      <td>2021-10-31</td>\n",
              "      <td>AILEE</td>\n",
              "      <td>https://open.spotify.com/track/2BPXILn0MqOe5Wr...</td>\n",
              "      <td>South Korea</td>\n",
              "      <td>top200</td>\n",
              "      <td>NEW_ENTRY</td>\n",
              "      <td>1286.0</td>\n",
              "    </tr>\n",
              "  </tbody>\n",
              "</table>\n",
              "<p>59576 rows × 9 columns</p>\n",
              "</div>\n",
              "      <button class=\"colab-df-convert\" onclick=\"convertToInteractive('df-3828a95c-4988-424f-ac1d-f88a65cd9576')\"\n",
              "              title=\"Convert this dataframe to an interactive table.\"\n",
              "              style=\"display:none;\">\n",
              "        \n",
              "  <svg xmlns=\"http://www.w3.org/2000/svg\" height=\"24px\"viewBox=\"0 0 24 24\"\n",
              "       width=\"24px\">\n",
              "    <path d=\"M0 0h24v24H0V0z\" fill=\"none\"/>\n",
              "    <path d=\"M18.56 5.44l.94 2.06.94-2.06 2.06-.94-2.06-.94-.94-2.06-.94 2.06-2.06.94zm-11 1L8.5 8.5l.94-2.06 2.06-.94-2.06-.94L8.5 2.5l-.94 2.06-2.06.94zm10 10l.94 2.06.94-2.06 2.06-.94-2.06-.94-.94-2.06-.94 2.06-2.06.94z\"/><path d=\"M17.41 7.96l-1.37-1.37c-.4-.4-.92-.59-1.43-.59-.52 0-1.04.2-1.43.59L10.3 9.45l-7.72 7.72c-.78.78-.78 2.05 0 2.83L4 21.41c.39.39.9.59 1.41.59.51 0 1.02-.2 1.41-.59l7.78-7.78 2.81-2.81c.8-.78.8-2.07 0-2.86zM5.41 20L4 18.59l7.72-7.72 1.47 1.35L5.41 20z\"/>\n",
              "  </svg>\n",
              "      </button>\n",
              "      \n",
              "  <style>\n",
              "    .colab-df-container {\n",
              "      display:flex;\n",
              "      flex-wrap:wrap;\n",
              "      gap: 12px;\n",
              "    }\n",
              "\n",
              "    .colab-df-convert {\n",
              "      background-color: #E8F0FE;\n",
              "      border: none;\n",
              "      border-radius: 50%;\n",
              "      cursor: pointer;\n",
              "      display: none;\n",
              "      fill: #1967D2;\n",
              "      height: 32px;\n",
              "      padding: 0 0 0 0;\n",
              "      width: 32px;\n",
              "    }\n",
              "\n",
              "    .colab-df-convert:hover {\n",
              "      background-color: #E2EBFA;\n",
              "      box-shadow: 0px 1px 2px rgba(60, 64, 67, 0.3), 0px 1px 3px 1px rgba(60, 64, 67, 0.15);\n",
              "      fill: #174EA6;\n",
              "    }\n",
              "\n",
              "    [theme=dark] .colab-df-convert {\n",
              "      background-color: #3B4455;\n",
              "      fill: #D2E3FC;\n",
              "    }\n",
              "\n",
              "    [theme=dark] .colab-df-convert:hover {\n",
              "      background-color: #434B5C;\n",
              "      box-shadow: 0px 1px 3px 1px rgba(0, 0, 0, 0.15);\n",
              "      filter: drop-shadow(0px 1px 2px rgba(0, 0, 0, 0.3));\n",
              "      fill: #FFFFFF;\n",
              "    }\n",
              "  </style>\n",
              "\n",
              "      <script>\n",
              "        const buttonEl =\n",
              "          document.querySelector('#df-3828a95c-4988-424f-ac1d-f88a65cd9576 button.colab-df-convert');\n",
              "        buttonEl.style.display =\n",
              "          google.colab.kernel.accessAllowed ? 'block' : 'none';\n",
              "\n",
              "        async function convertToInteractive(key) {\n",
              "          const element = document.querySelector('#df-3828a95c-4988-424f-ac1d-f88a65cd9576');\n",
              "          const dataTable =\n",
              "            await google.colab.kernel.invokeFunction('convertToInteractive',\n",
              "                                                     [key], {});\n",
              "          if (!dataTable) return;\n",
              "\n",
              "          const docLinkHtml = 'Like what you see? Visit the ' +\n",
              "            '<a target=\"_blank\" href=https://colab.research.google.com/notebooks/data_table.ipynb>data table notebook</a>'\n",
              "            + ' to learn more about interactive tables.';\n",
              "          element.innerHTML = '';\n",
              "          dataTable['output_type'] = 'display_data';\n",
              "          await google.colab.output.renderOutput(dataTable, element);\n",
              "          const docLink = document.createElement('div');\n",
              "          docLink.innerHTML = docLinkHtml;\n",
              "          element.appendChild(docLink);\n",
              "        }\n",
              "      </script>\n",
              "    </div>\n",
              "  </div>\n",
              "  "
            ]
          },
          "metadata": {},
          "execution_count": 38
        }
      ]
    },
    {
      "cell_type": "code",
      "source": [
        "usa=df[df[\"region\"]==\"United States\"]\n",
        "arg=df[df[\"region\"]==\"Argentina\"]\n",
        "sk=df[df[\"region\"]==\"South Korea\"]\n",
        "ind=df[df[\"region\"]==\"India\"]"
      ],
      "metadata": {
        "id": "mg0sU4xeXlsH",
        "colab": {
          "base_uri": "https://localhost:8080/",
          "height": 235
        },
        "outputId": "d96a4f5b-09a1-4d35-b7f5-57f43b8db211"
      },
      "execution_count": null,
      "outputs": [
        {
          "output_type": "error",
          "ename": "NameError",
          "evalue": "ignored",
          "traceback": [
            "\u001b[0;31m---------------------------------------------------------------------------\u001b[0m",
            "\u001b[0;31mNameError\u001b[0m                                 Traceback (most recent call last)",
            "\u001b[0;32m<ipython-input-3-15f1a88d5476>\u001b[0m in \u001b[0;36m<cell line: 2>\u001b[0;34m()\u001b[0m\n\u001b[1;32m      1\u001b[0m \u001b[0;31m# bpm,dnce,dB,live,valence,acoust\u001b[0m\u001b[0;34m\u001b[0m\u001b[0;34m\u001b[0m\u001b[0m\n\u001b[0;32m----> 2\u001b[0;31m \u001b[0musa\u001b[0m\u001b[0;34m=\u001b[0m\u001b[0mdf\u001b[0m\u001b[0;34m[\u001b[0m\u001b[0mdf\u001b[0m\u001b[0;34m[\u001b[0m\u001b[0;34m\"region\"\u001b[0m\u001b[0;34m]\u001b[0m\u001b[0;34m==\u001b[0m\u001b[0;34m\"United States\"\u001b[0m\u001b[0;34m]\u001b[0m\u001b[0;34m\u001b[0m\u001b[0;34m\u001b[0m\u001b[0m\n\u001b[0m\u001b[1;32m      3\u001b[0m \u001b[0marg\u001b[0m\u001b[0;34m=\u001b[0m\u001b[0mdf\u001b[0m\u001b[0;34m[\u001b[0m\u001b[0mdf\u001b[0m\u001b[0;34m[\u001b[0m\u001b[0;34m\"region\"\u001b[0m\u001b[0;34m]\u001b[0m\u001b[0;34m==\u001b[0m\u001b[0;34m\"Argentina\"\u001b[0m\u001b[0;34m]\u001b[0m\u001b[0;34m\u001b[0m\u001b[0;34m\u001b[0m\u001b[0m\n\u001b[1;32m      4\u001b[0m \u001b[0msk\u001b[0m\u001b[0;34m=\u001b[0m\u001b[0mdf\u001b[0m\u001b[0;34m[\u001b[0m\u001b[0mdf\u001b[0m\u001b[0;34m[\u001b[0m\u001b[0;34m\"region\"\u001b[0m\u001b[0;34m]\u001b[0m\u001b[0;34m==\u001b[0m\u001b[0;34m\"South Korea\"\u001b[0m\u001b[0;34m]\u001b[0m\u001b[0;34m\u001b[0m\u001b[0;34m\u001b[0m\u001b[0m\n\u001b[1;32m      5\u001b[0m \u001b[0mind\u001b[0m\u001b[0;34m=\u001b[0m\u001b[0mdf\u001b[0m\u001b[0;34m[\u001b[0m\u001b[0mdf\u001b[0m\u001b[0;34m[\u001b[0m\u001b[0;34m\"region\"\u001b[0m\u001b[0;34m]\u001b[0m\u001b[0;34m==\u001b[0m\u001b[0;34m\"India\"\u001b[0m\u001b[0;34m]\u001b[0m\u001b[0;34m\u001b[0m\u001b[0;34m\u001b[0m\u001b[0m\n",
            "\u001b[0;31mNameError\u001b[0m: name 'df' is not defined"
          ]
        }
      ]
    },
    {
      "cell_type": "code",
      "source": [
        "sk"
      ],
      "metadata": {
        "colab": {
          "base_uri": "https://localhost:8080/",
          "height": 424
        },
        "id": "4rDxQcT0biK3",
        "outputId": "e39f59f5-8c70-4f7c-9b7d-d408cdd50104"
      },
      "execution_count": null,
      "outputs": [
        {
          "output_type": "execute_result",
          "data": {
            "text/plain": [
              "                                         title  rank       date  \\\n",
              "14499629                                  Moon   192 2021-07-01   \n",
              "14504405                                Butter     1 2021-07-01   \n",
              "14504406                            Next Level     2 2021-07-01   \n",
              "14504407                            Bad Habits     3 2021-07-01   \n",
              "14504408                              Dynamite     4 2021-07-01   \n",
              "...                                        ...   ...        ...   \n",
              "24875334                         I Love You So   196 2021-10-31   \n",
              "24875335                                A Walk   197 2021-10-31   \n",
              "24875336                                 34+35   198 2021-10-31   \n",
              "24875337                               Anymore   199 2021-10-31   \n",
              "24875338  I Will Go To You Like the First Snow   200 2021-10-31   \n",
              "\n",
              "                 artist                                                url  \\\n",
              "14499629            BTS  https://open.spotify.com/track/1kBDdMMhlNZtfa1...   \n",
              "14504405            BTS  https://open.spotify.com/track/2bgTY4UwhfBYhGT...   \n",
              "14504406          aespa  https://open.spotify.com/track/2zrhoHlFKxFTRF5...   \n",
              "14504407     Ed Sheeran  https://open.spotify.com/track/6PQ88X9TkUIAUIZ...   \n",
              "14504408            BTS  https://open.spotify.com/track/4saklk6nie3yiGe...   \n",
              "...                 ...                                                ...   \n",
              "24875334    The Walters  https://open.spotify.com/track/4SqWKzw0CbA05TG...   \n",
              "24875335     Yerin Baek  https://open.spotify.com/track/07o59OvDiUuVpAb...   \n",
              "24875336  Ariana Grande  https://open.spotify.com/track/6Im9k8u9iIzKMrm...   \n",
              "24875337      JEON SOMI  https://open.spotify.com/track/6GwtJzM3yffZ4FJ...   \n",
              "24875338          AILEE  https://open.spotify.com/track/2BPXILn0MqOe5Wr...   \n",
              "\n",
              "               region   chart          trend  streams  \n",
              "14499629  South Korea  top200      MOVE_DOWN   1574.0  \n",
              "14504405  South Korea  top200  SAME_POSITION  27470.0  \n",
              "14504406  South Korea  top200  SAME_POSITION  19314.0  \n",
              "14504407  South Korea  top200  SAME_POSITION  14304.0  \n",
              "14504408  South Korea  top200        MOVE_UP  12398.0  \n",
              "...               ...     ...            ...      ...  \n",
              "24875334  South Korea  top200      MOVE_DOWN   1291.0  \n",
              "24875335  South Korea  top200      MOVE_DOWN   1291.0  \n",
              "24875336  South Korea  top200      MOVE_DOWN   1286.0  \n",
              "24875337  South Korea  top200      MOVE_DOWN   1286.0  \n",
              "24875338  South Korea  top200      NEW_ENTRY   1286.0  \n",
              "\n",
              "[59576 rows x 9 columns]"
            ],
            "text/html": [
              "\n",
              "  <div id=\"df-3e6d7d10-b47b-4b77-a2bc-57c80ed37596\">\n",
              "    <div class=\"colab-df-container\">\n",
              "      <div>\n",
              "<style scoped>\n",
              "    .dataframe tbody tr th:only-of-type {\n",
              "        vertical-align: middle;\n",
              "    }\n",
              "\n",
              "    .dataframe tbody tr th {\n",
              "        vertical-align: top;\n",
              "    }\n",
              "\n",
              "    .dataframe thead th {\n",
              "        text-align: right;\n",
              "    }\n",
              "</style>\n",
              "<table border=\"1\" class=\"dataframe\">\n",
              "  <thead>\n",
              "    <tr style=\"text-align: right;\">\n",
              "      <th></th>\n",
              "      <th>title</th>\n",
              "      <th>rank</th>\n",
              "      <th>date</th>\n",
              "      <th>artist</th>\n",
              "      <th>url</th>\n",
              "      <th>region</th>\n",
              "      <th>chart</th>\n",
              "      <th>trend</th>\n",
              "      <th>streams</th>\n",
              "    </tr>\n",
              "  </thead>\n",
              "  <tbody>\n",
              "    <tr>\n",
              "      <th>14499629</th>\n",
              "      <td>Moon</td>\n",
              "      <td>192</td>\n",
              "      <td>2021-07-01</td>\n",
              "      <td>BTS</td>\n",
              "      <td>https://open.spotify.com/track/1kBDdMMhlNZtfa1...</td>\n",
              "      <td>South Korea</td>\n",
              "      <td>top200</td>\n",
              "      <td>MOVE_DOWN</td>\n",
              "      <td>1574.0</td>\n",
              "    </tr>\n",
              "    <tr>\n",
              "      <th>14504405</th>\n",
              "      <td>Butter</td>\n",
              "      <td>1</td>\n",
              "      <td>2021-07-01</td>\n",
              "      <td>BTS</td>\n",
              "      <td>https://open.spotify.com/track/2bgTY4UwhfBYhGT...</td>\n",
              "      <td>South Korea</td>\n",
              "      <td>top200</td>\n",
              "      <td>SAME_POSITION</td>\n",
              "      <td>27470.0</td>\n",
              "    </tr>\n",
              "    <tr>\n",
              "      <th>14504406</th>\n",
              "      <td>Next Level</td>\n",
              "      <td>2</td>\n",
              "      <td>2021-07-01</td>\n",
              "      <td>aespa</td>\n",
              "      <td>https://open.spotify.com/track/2zrhoHlFKxFTRF5...</td>\n",
              "      <td>South Korea</td>\n",
              "      <td>top200</td>\n",
              "      <td>SAME_POSITION</td>\n",
              "      <td>19314.0</td>\n",
              "    </tr>\n",
              "    <tr>\n",
              "      <th>14504407</th>\n",
              "      <td>Bad Habits</td>\n",
              "      <td>3</td>\n",
              "      <td>2021-07-01</td>\n",
              "      <td>Ed Sheeran</td>\n",
              "      <td>https://open.spotify.com/track/6PQ88X9TkUIAUIZ...</td>\n",
              "      <td>South Korea</td>\n",
              "      <td>top200</td>\n",
              "      <td>SAME_POSITION</td>\n",
              "      <td>14304.0</td>\n",
              "    </tr>\n",
              "    <tr>\n",
              "      <th>14504408</th>\n",
              "      <td>Dynamite</td>\n",
              "      <td>4</td>\n",
              "      <td>2021-07-01</td>\n",
              "      <td>BTS</td>\n",
              "      <td>https://open.spotify.com/track/4saklk6nie3yiGe...</td>\n",
              "      <td>South Korea</td>\n",
              "      <td>top200</td>\n",
              "      <td>MOVE_UP</td>\n",
              "      <td>12398.0</td>\n",
              "    </tr>\n",
              "    <tr>\n",
              "      <th>...</th>\n",
              "      <td>...</td>\n",
              "      <td>...</td>\n",
              "      <td>...</td>\n",
              "      <td>...</td>\n",
              "      <td>...</td>\n",
              "      <td>...</td>\n",
              "      <td>...</td>\n",
              "      <td>...</td>\n",
              "      <td>...</td>\n",
              "    </tr>\n",
              "    <tr>\n",
              "      <th>24875334</th>\n",
              "      <td>I Love You So</td>\n",
              "      <td>196</td>\n",
              "      <td>2021-10-31</td>\n",
              "      <td>The Walters</td>\n",
              "      <td>https://open.spotify.com/track/4SqWKzw0CbA05TG...</td>\n",
              "      <td>South Korea</td>\n",
              "      <td>top200</td>\n",
              "      <td>MOVE_DOWN</td>\n",
              "      <td>1291.0</td>\n",
              "    </tr>\n",
              "    <tr>\n",
              "      <th>24875335</th>\n",
              "      <td>A Walk</td>\n",
              "      <td>197</td>\n",
              "      <td>2021-10-31</td>\n",
              "      <td>Yerin Baek</td>\n",
              "      <td>https://open.spotify.com/track/07o59OvDiUuVpAb...</td>\n",
              "      <td>South Korea</td>\n",
              "      <td>top200</td>\n",
              "      <td>MOVE_DOWN</td>\n",
              "      <td>1291.0</td>\n",
              "    </tr>\n",
              "    <tr>\n",
              "      <th>24875336</th>\n",
              "      <td>34+35</td>\n",
              "      <td>198</td>\n",
              "      <td>2021-10-31</td>\n",
              "      <td>Ariana Grande</td>\n",
              "      <td>https://open.spotify.com/track/6Im9k8u9iIzKMrm...</td>\n",
              "      <td>South Korea</td>\n",
              "      <td>top200</td>\n",
              "      <td>MOVE_DOWN</td>\n",
              "      <td>1286.0</td>\n",
              "    </tr>\n",
              "    <tr>\n",
              "      <th>24875337</th>\n",
              "      <td>Anymore</td>\n",
              "      <td>199</td>\n",
              "      <td>2021-10-31</td>\n",
              "      <td>JEON SOMI</td>\n",
              "      <td>https://open.spotify.com/track/6GwtJzM3yffZ4FJ...</td>\n",
              "      <td>South Korea</td>\n",
              "      <td>top200</td>\n",
              "      <td>MOVE_DOWN</td>\n",
              "      <td>1286.0</td>\n",
              "    </tr>\n",
              "    <tr>\n",
              "      <th>24875338</th>\n",
              "      <td>I Will Go To You Like the First Snow</td>\n",
              "      <td>200</td>\n",
              "      <td>2021-10-31</td>\n",
              "      <td>AILEE</td>\n",
              "      <td>https://open.spotify.com/track/2BPXILn0MqOe5Wr...</td>\n",
              "      <td>South Korea</td>\n",
              "      <td>top200</td>\n",
              "      <td>NEW_ENTRY</td>\n",
              "      <td>1286.0</td>\n",
              "    </tr>\n",
              "  </tbody>\n",
              "</table>\n",
              "<p>59576 rows × 9 columns</p>\n",
              "</div>\n",
              "      <button class=\"colab-df-convert\" onclick=\"convertToInteractive('df-3e6d7d10-b47b-4b77-a2bc-57c80ed37596')\"\n",
              "              title=\"Convert this dataframe to an interactive table.\"\n",
              "              style=\"display:none;\">\n",
              "        \n",
              "  <svg xmlns=\"http://www.w3.org/2000/svg\" height=\"24px\"viewBox=\"0 0 24 24\"\n",
              "       width=\"24px\">\n",
              "    <path d=\"M0 0h24v24H0V0z\" fill=\"none\"/>\n",
              "    <path d=\"M18.56 5.44l.94 2.06.94-2.06 2.06-.94-2.06-.94-.94-2.06-.94 2.06-2.06.94zm-11 1L8.5 8.5l.94-2.06 2.06-.94-2.06-.94L8.5 2.5l-.94 2.06-2.06.94zm10 10l.94 2.06.94-2.06 2.06-.94-2.06-.94-.94-2.06-.94 2.06-2.06.94z\"/><path d=\"M17.41 7.96l-1.37-1.37c-.4-.4-.92-.59-1.43-.59-.52 0-1.04.2-1.43.59L10.3 9.45l-7.72 7.72c-.78.78-.78 2.05 0 2.83L4 21.41c.39.39.9.59 1.41.59.51 0 1.02-.2 1.41-.59l7.78-7.78 2.81-2.81c.8-.78.8-2.07 0-2.86zM5.41 20L4 18.59l7.72-7.72 1.47 1.35L5.41 20z\"/>\n",
              "  </svg>\n",
              "      </button>\n",
              "      \n",
              "  <style>\n",
              "    .colab-df-container {\n",
              "      display:flex;\n",
              "      flex-wrap:wrap;\n",
              "      gap: 12px;\n",
              "    }\n",
              "\n",
              "    .colab-df-convert {\n",
              "      background-color: #E8F0FE;\n",
              "      border: none;\n",
              "      border-radius: 50%;\n",
              "      cursor: pointer;\n",
              "      display: none;\n",
              "      fill: #1967D2;\n",
              "      height: 32px;\n",
              "      padding: 0 0 0 0;\n",
              "      width: 32px;\n",
              "    }\n",
              "\n",
              "    .colab-df-convert:hover {\n",
              "      background-color: #E2EBFA;\n",
              "      box-shadow: 0px 1px 2px rgba(60, 64, 67, 0.3), 0px 1px 3px 1px rgba(60, 64, 67, 0.15);\n",
              "      fill: #174EA6;\n",
              "    }\n",
              "\n",
              "    [theme=dark] .colab-df-convert {\n",
              "      background-color: #3B4455;\n",
              "      fill: #D2E3FC;\n",
              "    }\n",
              "\n",
              "    [theme=dark] .colab-df-convert:hover {\n",
              "      background-color: #434B5C;\n",
              "      box-shadow: 0px 1px 3px 1px rgba(0, 0, 0, 0.15);\n",
              "      filter: drop-shadow(0px 1px 2px rgba(0, 0, 0, 0.3));\n",
              "      fill: #FFFFFF;\n",
              "    }\n",
              "  </style>\n",
              "\n",
              "      <script>\n",
              "        const buttonEl =\n",
              "          document.querySelector('#df-3e6d7d10-b47b-4b77-a2bc-57c80ed37596 button.colab-df-convert');\n",
              "        buttonEl.style.display =\n",
              "          google.colab.kernel.accessAllowed ? 'block' : 'none';\n",
              "\n",
              "        async function convertToInteractive(key) {\n",
              "          const element = document.querySelector('#df-3e6d7d10-b47b-4b77-a2bc-57c80ed37596');\n",
              "          const dataTable =\n",
              "            await google.colab.kernel.invokeFunction('convertToInteractive',\n",
              "                                                     [key], {});\n",
              "          if (!dataTable) return;\n",
              "\n",
              "          const docLinkHtml = 'Like what you see? Visit the ' +\n",
              "            '<a target=\"_blank\" href=https://colab.research.google.com/notebooks/data_table.ipynb>data table notebook</a>'\n",
              "            + ' to learn more about interactive tables.';\n",
              "          element.innerHTML = '';\n",
              "          dataTable['output_type'] = 'display_data';\n",
              "          await google.colab.output.renderOutput(dataTable, element);\n",
              "          const docLink = document.createElement('div');\n",
              "          docLink.innerHTML = docLinkHtml;\n",
              "          element.appendChild(docLink);\n",
              "        }\n",
              "      </script>\n",
              "    </div>\n",
              "  </div>\n",
              "  "
            ]
          },
          "metadata": {},
          "execution_count": 11
        }
      ]
    },
    {
      "cell_type": "code",
      "source": [
        "def to_csv(df,name):\n",
        "  df.to_csv(name, sep=',')\n"
      ],
      "metadata": {
        "id": "Sqorq73hFv1x"
      },
      "execution_count": null,
      "outputs": []
    },
    {
      "cell_type": "code",
      "source": [
        "to_csv(usa,\"usa.csv\")\n",
        "to_csv(ind,\"ind.csv\")\n",
        "to_csv(sk,\"sk.csv\")\n",
        "to_csv(arg,\"arg.csv\")"
      ],
      "metadata": {
        "id": "AanrMOSkXoDC"
      },
      "execution_count": null,
      "outputs": []
    },
    {
      "cell_type": "code",
      "source": [
        "def main_ranker(df):\n",
        "  vals=df.url.unique\n",
        "  d={}\n",
        "  count={}\n",
        "  # data['url'].value_counts()[value]\n",
        "  cols=list(df)\n",
        "  cols.append(\"count\")\n",
        "  new_df = pd.DataFrame(columns=cols)\n",
        "  # df.drop_duplicates('title', inplace = True)\n",
        "  for index,key in enumerate(df.url.unique()):\n",
        "    count[key]=df['url'].value_counts()[key]\n",
        "\n",
        "  for index, row in df.iterrows():\n",
        "\n",
        "      u=row[\"url\"]\n",
        "      r=row[\"rank\"]\n",
        "      if u in d:\n",
        "        d[u]+=r\n",
        "      else:\n",
        "        d[u]=r \n",
        "  \n",
        "  df.drop_duplicates('url', inplace = True)\n",
        "\n",
        "  for index, row in df.iterrows():\n",
        "    # row=row.tolist()\n",
        "    key=row['url']\n",
        "    row['rank']=d[key]\n",
        "    row['count']=count[key]\n",
        "    new_df.loc[index]=row\n",
        "\n",
        "  name_d={}\n",
        "  cols.append('ranking')\n",
        "  final_df=   pd.DataFrame(columns=cols)\n",
        "  count={}\n",
        "  # for index,key in enumerate(new_df.title.unique()):\n",
        "  #   count[key]=new_df['title'].value_counts()[key]\n",
        "\n",
        "  for index, row in new_df.iterrows():\n",
        "\n",
        "      u=row[\"title\"]\n",
        "      r=row[\"rank\"]\n",
        "      if u in name_d:\n",
        "        name_d[u]+=r\n",
        "        count[u]+=row[\"count\"]\n",
        "      else:\n",
        "        name_d[u]=r \n",
        "        count[u]=row[\"count\"]\n",
        "  \n",
        "  new_df.drop_duplicates('title', inplace = True)\n",
        "\n",
        "  for index, row in new_df.iterrows():\n",
        "    # row=row.tolist()\n",
        "    key=row['title']\n",
        "    row['ranking']=name_d[key]/count[key]\n",
        "\n",
        "    final_df.loc[index]=row\n",
        "\n",
        "  final_df=final_df.sort_values('ranking')\n",
        "  \n",
        "  return final_df\n"
      ],
      "metadata": {
        "id": "68GUzC8rYUrr"
      },
      "execution_count": null,
      "outputs": []
    },
    {
      "cell_type": "code",
      "source": [
        "usa_modified=main_ranker(usa.copy())\n",
        "ind_modified=main_ranker(ind.copy())\n",
        "arg_modified=main_ranker(arg.copy())\n",
        "sk_modified=main_ranker(sk.copy())"
      ],
      "metadata": {
        "id": "Sdwkq5KZYV0m"
      },
      "execution_count": null,
      "outputs": []
    },
    {
      "cell_type": "code",
      "source": [
        "to_csv(usa_modified,\"usa.csv\")\n",
        "to_csv(ind_modified,\"ind.csv\")\n",
        "to_csv(sk_modified,\"sk.csv\")\n",
        "to_csv(arg_modified,\"arg.csv\")"
      ],
      "metadata": {
        "id": "JJUYoE1jDKAU"
      },
      "execution_count": null,
      "outputs": []
    },
    {
      "cell_type": "markdown",
      "source": [
        "# final correlation result"
      ],
      "metadata": {
        "id": "N1uw76Z7vsrR"
      }
    },
    {
      "cell_type": "code",
      "source": [
        "# pdi, individualism, masclunity, uncertainity avoidance,long term orientation,indulgence\n",
        "from numpy.random import randn\n",
        "from numpy.random import seed\n",
        "from scipy.stats import pearsonr\n",
        "\n",
        "\n",
        "ind_hofstede=[77,48,56,40,51,26]\n",
        "arg_hofstede=[49,46,56,86,20,62]\n",
        "usa_hofstede=[40,91,62,46,26,68]\n",
        "sk_hofstede=[60,18,39,85,100,29]\n",
        "\n",
        "# Mellow Unpretentious Sophisticated Intense Contemporary\n",
        "\n",
        "ind_genre=[5,3,20,4,168]\n",
        "arg_genre=[4,3,3,33,157]\n",
        "usa_genre=[8,5,38,29,120]\n",
        "sk_genre=[11,2,7,15,165]\n",
        "\n",
        "genre_list=[]\n",
        "hofstede_list=[]\n",
        "genre_list.append(ind_genre);genre_list.append(arg_genre);genre_list.append(usa_genre);genre_list.append(sk_genre);\n",
        "hofstede_list.append(ind_hofstede);hofstede_list.append(arg_hofstede);hofstede_list.append(usa_hofstede);hofstede_list.append(sk_hofstede);"
      ],
      "metadata": {
        "id": "H8V4uerWFE_Y"
      },
      "execution_count": 3,
      "outputs": []
    },
    {
      "cell_type": "code",
      "source": [
        "import pandas as pd\n",
        "import numpy as np\n",
        "import io\n",
        "df_genre = pd.DataFrame(genre_list, columns =['Mellow','Unpretentious','Sophisticated','Intense','Contemporary'])\n",
        "df_hofstede = pd.DataFrame(hofstede_list,columns=['pdi','individualism',' masclunity',' uncertainity','orientation','indulgence'])\n"
      ],
      "metadata": {
        "id": "jsU2M8f1tkYJ"
      },
      "execution_count": 4,
      "outputs": []
    },
    {
      "cell_type": "code",
      "source": [
        "# row= bpm,dnce,dB,live,valence,acoust\n",
        "\n",
        "# score_l= [[-0.43,-0.22,-0.07,0.41,0.08],\n",
        "#  [-0.11,-0.11,0.53,0.49,0.17],\n",
        "#  [-0.38,-0.26,-0.27,0.64,-0.03],\n",
        "#  [-0.47,-0.48,-0.22,0.66,0.08],\n",
        "#  [0.56,0.15,0.32,-0.54,-0.07],\n",
        "#  [0.05,-0.31,0.30,0.05,0.04]]\n",
        "\n",
        "score_l= [[-0.43,-0.22,-0.07,0.41,0.08],\n",
        " [-0.11,-0.11,0.53,0.49,0.17],\n",
        " [-0.38,-0.26,-0.27,0.64,-0.03],\n",
        " [-0.47,-0.48,-0.22,0.66,0.08],\n",
        " [0.56,0.15,0.32,-0.54,-0.07],\n",
        " [0.05,-0.31,0.30,0.05,0.04]]\n"
      ],
      "metadata": {
        "id": "Iz4O5SWgAnxq"
      },
      "execution_count": 6,
      "outputs": []
    },
    {
      "cell_type": "code",
      "source": [
        "# for i in range(len(score_l)):\n",
        "#   for j in range(len(score_l[0])):\n",
        "#     score_l[i][j]+=1\n",
        "#     score_l[i][j]/=2\n"
      ],
      "metadata": {
        "id": "HzTmR9vdb_kO"
      },
      "execution_count": 13,
      "outputs": []
    },
    {
      "cell_type": "code",
      "source": [
        "print(score_l)"
      ],
      "metadata": {
        "colab": {
          "base_uri": "https://localhost:8080/"
        },
        "id": "AqLk8DQQcVsR",
        "outputId": "95b51552-9990-41fa-f7a4-5048f9e73b01"
      },
      "execution_count": 83,
      "outputs": [
        {
          "output_type": "stream",
          "name": "stdout",
          "text": [
            "[[-0.43, -0.22, -0.07, 0.41, 0.08], [-0.11, -0.11, 0.53, 0.49, 0.17], [-0.38, -0.26, -0.27, 0.64, -0.03], [-0.47, -0.48, -0.22, 0.66, 0.08], [0.56, 0.15, 0.32, -0.54, -0.07], [0.05, -0.31, 0.3, 0.05, 0.04]]\n"
          ]
        }
      ]
    },
    {
      "cell_type": "code",
      "source": [
        "df_ind=pd.read_csv('/content/ind.csv',sep='\\t')\n",
        "df_sk=pd.read_csv('/content/sk.csv',sep='\\t')\n",
        "df_usa=pd.read_csv('/content/usa.csv',sep='\\t')\n",
        "df_arg=pd.read_csv('/content/arg.csv',sep='\\t')"
      ],
      "metadata": {
        "id": "i3-Rk0JtCaEv"
      },
      "execution_count": 84,
      "outputs": []
    },
    {
      "cell_type": "code",
      "source": [
        "# bpm_norm=();dnce_norm=();dB_norm=();live_norm=();valence_norm=();acoust_norm=();\n",
        "list_clos=['bpm','dnce','dB','live','val','acous']\n",
        "norm=[]\n",
        "for col in list_clos:\n",
        "  norm.append([max(df_ind[col].max(),df_arg[col].max(),df_usa[col].max(),df_sk[col].max()),min(df_ind[col].min(),df_arg[col].min(),df_usa[col].min(),df_sk[col].min())])\n"
      ],
      "metadata": {
        "id": "vKveUHAvC41y"
      },
      "execution_count": 5,
      "outputs": []
    },
    {
      "cell_type": "code",
      "source": [
        "print(norm)"
      ],
      "metadata": {
        "colab": {
          "base_uri": "https://localhost:8080/"
        },
        "id": "pEIt6k27JDxD",
        "outputId": "75e33bda-3137-49c5-93fb-ad5b8fd4b488"
      },
      "execution_count": 86,
      "outputs": [
        {
          "output_type": "stream",
          "name": "stdout",
          "text": [
            "[[208, 1.0], [96, 23.0], [0, -23.0], [94.0, 2], [97.0, 1.0], [99.0, 0]]\n"
          ]
        }
      ]
    },
    {
      "cell_type": "code",
      "source": [
        "# normalise df values\n",
        "def func_normalise(df):\n",
        "  for id,col in enumerate(list_clos):\n",
        "    it=norm[id]\n",
        "    df[col] = df[col].apply(lambda x: ((x-it[1]) *100)/(it[0]-it[1]))\n",
        "  return df\n",
        "df_norm_arg=func_normalise(df_arg.copy())\n",
        "df_norm_ind=func_normalise(df_ind.copy())\n",
        "df_norm_sk=func_normalise(df_sk.copy())\n",
        "df_norm_usa=func_normalise(df_usa.copy())"
      ],
      "metadata": {
        "id": "XIPH2M8hJQPF"
      },
      "execution_count": 87,
      "outputs": []
    },
    {
      "cell_type": "code",
      "source": [
        "score_l_t=np.array(score_l.copy()).T\n",
        "print(score_l_t)"
      ],
      "metadata": {
        "colab": {
          "base_uri": "https://localhost:8080/"
        },
        "id": "5CLWkW83Nfpn",
        "outputId": "b33872e9-dde8-4e8a-d1e6-0780ebf8a364"
      },
      "execution_count": 88,
      "outputs": [
        {
          "output_type": "stream",
          "name": "stdout",
          "text": [
            "[[-0.43 -0.11 -0.38 -0.47  0.56  0.05]\n",
            " [-0.22 -0.11 -0.26 -0.48  0.15 -0.31]\n",
            " [-0.07  0.53 -0.27 -0.22  0.32  0.3 ]\n",
            " [ 0.41  0.49  0.64  0.66 -0.54  0.05]\n",
            " [ 0.08  0.17 -0.03  0.08 -0.07  0.04]]\n"
          ]
        }
      ]
    },
    {
      "cell_type": "code",
      "source": [
        "new_cols=['mellow','unpretenious','sophisticated','intense','contemperory']\n",
        "for col in new_cols:\n",
        "  df_norm_arg[col]=np.nan\n",
        "  df_norm_ind[col]=np.nan\n",
        "  df_norm_sk[col]=np.nan\n",
        "  df_norm_usa[col]=np.nan"
      ],
      "metadata": {
        "id": "CjePcsP_KD3x"
      },
      "execution_count": 12,
      "outputs": []
    },
    {
      "cell_type": "code",
      "source": [
        "def func(df):\n",
        "  data=[]\n",
        "  for index, row in df.iterrows():\n",
        "    for i,col in enumerate(new_cols):\n",
        "      ans=0\n",
        "      for j,val in enumerate(list_clos):\n",
        "        ans+=float(score_l_t[i][j])*float(row[val])\n",
        "      row[col]=ans\n",
        "    data.append(row.values.flatten().tolist())\n",
        "  lol=pd.DataFrame(data,columns=list(df_norm_arg.columns.values))\n",
        "  return lol.copy()\n"
      ],
      "metadata": {
        "id": "M9yVFDYrNIKN"
      },
      "execution_count": 8,
      "outputs": []
    },
    {
      "cell_type": "code",
      "source": [
        "func(df_norm_arg).to_csv('arg_final.csv',sep='\\t')\n",
        "func(df_norm_ind).to_csv('ind_final.csv',sep='\\t')\n",
        "func(df_norm_usa).to_csv('usa_final.csv',sep='\\t')\n",
        "func(df_norm_sk).to_csv('sk_final.csv',sep='\\t')\n"
      ],
      "metadata": {
        "id": "1O1GiSrOSkfD",
        "colab": {
          "base_uri": "https://localhost:8080/",
          "height": 217
        },
        "outputId": "511e9efd-e17a-4cad-e0c5-534f73f2ddb7"
      },
      "execution_count": 7,
      "outputs": [
        {
          "output_type": "error",
          "ename": "NameError",
          "evalue": "ignored",
          "traceback": [
            "\u001b[0;31m---------------------------------------------------------------------------\u001b[0m",
            "\u001b[0;31mNameError\u001b[0m                                 Traceback (most recent call last)",
            "\u001b[0;32m<ipython-input-7-ba99106e2ee4>\u001b[0m in \u001b[0;36m<cell line: 1>\u001b[0;34m()\u001b[0m\n\u001b[0;32m----> 1\u001b[0;31m \u001b[0mfunc\u001b[0m\u001b[0;34m(\u001b[0m\u001b[0mdf_norm_arg\u001b[0m\u001b[0;34m)\u001b[0m\u001b[0;34m.\u001b[0m\u001b[0mto_csv\u001b[0m\u001b[0;34m(\u001b[0m\u001b[0;34m'arg_final.csv'\u001b[0m\u001b[0;34m,\u001b[0m\u001b[0msep\u001b[0m\u001b[0;34m=\u001b[0m\u001b[0;34m'\\t'\u001b[0m\u001b[0;34m)\u001b[0m\u001b[0;34m\u001b[0m\u001b[0;34m\u001b[0m\u001b[0m\n\u001b[0m\u001b[1;32m      2\u001b[0m \u001b[0mfunc\u001b[0m\u001b[0;34m(\u001b[0m\u001b[0mdf_norm_ind\u001b[0m\u001b[0;34m)\u001b[0m\u001b[0;34m.\u001b[0m\u001b[0mto_csv\u001b[0m\u001b[0;34m(\u001b[0m\u001b[0;34m'ind_final.csv'\u001b[0m\u001b[0;34m,\u001b[0m\u001b[0msep\u001b[0m\u001b[0;34m=\u001b[0m\u001b[0;34m'\\t'\u001b[0m\u001b[0;34m)\u001b[0m\u001b[0;34m\u001b[0m\u001b[0;34m\u001b[0m\u001b[0m\n\u001b[1;32m      3\u001b[0m \u001b[0mfunc\u001b[0m\u001b[0;34m(\u001b[0m\u001b[0mdf_norm_usa\u001b[0m\u001b[0;34m)\u001b[0m\u001b[0;34m.\u001b[0m\u001b[0mto_csv\u001b[0m\u001b[0;34m(\u001b[0m\u001b[0;34m'usa_final.csv'\u001b[0m\u001b[0;34m,\u001b[0m\u001b[0msep\u001b[0m\u001b[0;34m=\u001b[0m\u001b[0;34m'\\t'\u001b[0m\u001b[0;34m)\u001b[0m\u001b[0;34m\u001b[0m\u001b[0;34m\u001b[0m\u001b[0m\n\u001b[1;32m      4\u001b[0m \u001b[0mfunc\u001b[0m\u001b[0;34m(\u001b[0m\u001b[0mdf_norm_sk\u001b[0m\u001b[0;34m)\u001b[0m\u001b[0;34m.\u001b[0m\u001b[0mto_csv\u001b[0m\u001b[0;34m(\u001b[0m\u001b[0;34m'sk_final.csv'\u001b[0m\u001b[0;34m,\u001b[0m\u001b[0msep\u001b[0m\u001b[0;34m=\u001b[0m\u001b[0;34m'\\t'\u001b[0m\u001b[0;34m)\u001b[0m\u001b[0;34m\u001b[0m\u001b[0;34m\u001b[0m\u001b[0m\n",
            "\u001b[0;31mNameError\u001b[0m: name 'func' is not defined"
          ]
        }
      ]
    },
    {
      "cell_type": "code",
      "source": [
        "df_ind_final=pd.read_csv('/content/ind_final.csv',sep='\\t')\n",
        "df_sk_final=pd.read_csv('/content/sk_final.csv',sep='\\t')\n",
        "df_usa_final=pd.read_csv('/content/usa_final.csv',sep='\\t')\n",
        "df_arg_final=pd.read_csv('/content/arg_final.csv',sep='\\t')"
      ],
      "metadata": {
        "id": "8sbPRUuSXazV"
      },
      "execution_count": 8,
      "outputs": []
    },
    {
      "cell_type": "code",
      "source": [
        "df_usa_final = df_usa_final[df_usa_final['mellow'].notnull()]\n",
        "df_arg_final = df_arg_final[df_arg_final['mellow'].notnull()]\n"
      ],
      "metadata": {
        "id": "Q-9ogcN1X4-V"
      },
      "execution_count": 9,
      "outputs": []
    },
    {
      "cell_type": "markdown",
      "source": [
        "### get average values"
      ],
      "metadata": {
        "id": "DUBuJVlNE-sp"
      }
    },
    {
      "cell_type": "code",
      "source": [
        "def print_average(col):\n",
        "  print(\"\\t\"+col.upper()+\"\\t\")\n",
        "  print()\n",
        "  print(\"\\t\"+\"India\"+\"\\t\")\n",
        "  print(df_ind_final.loc[:, col].mean())\n",
        "  print(\"\\t\"+\"South Korea\"+\"\\t\")\n",
        "  print(df_sk_final.loc[:, col].mean())\n",
        "  print(\"\\t\"+\"USA\"+\"\\t\")\n",
        "  print(df_usa_final.loc[:, col].mean())\n",
        "  print(\"\\t\"+\"Argentina\"+\"\\t\")\n",
        "  print(df_arg_final.loc[:, col].mean())\n",
        "for col in new_cols:\n",
        "  print_average(col)\n",
        "# mellow sophisticated \n",
        "# arg+us, india, sk\n",
        "# sk,ind+arg,usa"
      ],
      "metadata": {
        "id": "nTwxfsidYxLp",
        "colab": {
          "base_uri": "https://localhost:8080/",
          "height": 235
        },
        "outputId": "83e9d4d1-7764-41b6-c5a8-29e0dd00515c"
      },
      "execution_count": 10,
      "outputs": [
        {
          "output_type": "error",
          "ename": "NameError",
          "evalue": "ignored",
          "traceback": [
            "\u001b[0;31m---------------------------------------------------------------------------\u001b[0m",
            "\u001b[0;31mNameError\u001b[0m                                 Traceback (most recent call last)",
            "\u001b[0;32m<ipython-input-10-dfaab7ff35ef>\u001b[0m in \u001b[0;36m<cell line: 12>\u001b[0;34m()\u001b[0m\n\u001b[1;32m     10\u001b[0m   \u001b[0mprint\u001b[0m\u001b[0;34m(\u001b[0m\u001b[0;34m\"\\t\"\u001b[0m\u001b[0;34m+\u001b[0m\u001b[0;34m\"Argentina\"\u001b[0m\u001b[0;34m+\u001b[0m\u001b[0;34m\"\\t\"\u001b[0m\u001b[0;34m)\u001b[0m\u001b[0;34m\u001b[0m\u001b[0;34m\u001b[0m\u001b[0m\n\u001b[1;32m     11\u001b[0m   \u001b[0mprint\u001b[0m\u001b[0;34m(\u001b[0m\u001b[0mdf_arg_final\u001b[0m\u001b[0;34m.\u001b[0m\u001b[0mloc\u001b[0m\u001b[0;34m[\u001b[0m\u001b[0;34m:\u001b[0m\u001b[0;34m,\u001b[0m \u001b[0mcol\u001b[0m\u001b[0;34m]\u001b[0m\u001b[0;34m.\u001b[0m\u001b[0mmean\u001b[0m\u001b[0;34m(\u001b[0m\u001b[0;34m)\u001b[0m\u001b[0;34m)\u001b[0m\u001b[0;34m\u001b[0m\u001b[0;34m\u001b[0m\u001b[0m\n\u001b[0;32m---> 12\u001b[0;31m \u001b[0;32mfor\u001b[0m \u001b[0mcol\u001b[0m \u001b[0;32min\u001b[0m \u001b[0mnew_cols\u001b[0m\u001b[0;34m:\u001b[0m\u001b[0;34m\u001b[0m\u001b[0;34m\u001b[0m\u001b[0m\n\u001b[0m\u001b[1;32m     13\u001b[0m   \u001b[0mprint_average\u001b[0m\u001b[0;34m(\u001b[0m\u001b[0mcol\u001b[0m\u001b[0;34m)\u001b[0m\u001b[0;34m\u001b[0m\u001b[0;34m\u001b[0m\u001b[0m\n\u001b[1;32m     14\u001b[0m \u001b[0;31m# mellow sophisticated\u001b[0m\u001b[0;34m\u001b[0m\u001b[0;34m\u001b[0m\u001b[0m\n",
            "\u001b[0;31mNameError\u001b[0m: name 'new_cols' is not defined"
          ]
        }
      ]
    },
    {
      "cell_type": "code",
      "source": [
        "# def updater(df):\n",
        "#   for i,col in enumerate(new_cols):\n",
        "#       df[col] = df[col].apply(lambda x: df[val]*score_l_t[i][j] for j,val in enumerate(list_clos))\n",
        "#   return df\n",
        "# df_norm_arg=updater(df_norm_arg)"
      ],
      "metadata": {
        "id": "GoqwfGL_HyGy"
      },
      "execution_count": 95,
      "outputs": []
    },
    {
      "cell_type": "code",
      "source": [
        "\"\"\"\n",
        "masclunity contemperory(low)\n",
        "mascunity intense(high)\n",
        "masclunity mellow(low)\n",
        "masclunity sophisticated (high)\n",
        "\n",
        "uncertainity avoidance intense(high)\n",
        "uncertainity avoidance sophisticated(wrong)\n",
        "\n",
        "indulgence intense(high)\n",
        "indulgence sophisticated (high)\n",
        "\n",
        "long term orientation intense(low)\n",
        "long term orietation sophisticated(low)\n",
        "\n",
        "individual contemperory(low)\n",
        "individual intense(high)intense\n",
        "individual sophisiticated(sophisticated)\n",
        "individual mellow(low)\n",
        "\n",
        "\n",
        "\n",
        "\"\"\""
      ],
      "metadata": {
        "id": "1pQvjEsOcw93",
        "colab": {
          "base_uri": "https://localhost:8080/",
          "height": 122
        },
        "outputId": "c6b0a8f2-ee43-43d4-860b-1b3b5d0d1071"
      },
      "execution_count": 96,
      "outputs": [
        {
          "output_type": "execute_result",
          "data": {
            "text/plain": [
              "'\\nmasclunity contemperory(low)\\nmascunity intense(high)\\nmasclunity mellow(low)\\nmasclunity sophisticated (high)\\n\\nuncertainity avoidance intense(high)\\nuncertainity avoidance sophisticated(wrong)\\n\\nindulgence intense(high)\\nindulgence sophisticated (high)\\n\\nlong term orientation intense(low)\\nlong term orietation sophisticated(low)\\n\\nindividual contemperory(low)\\nindividual intense(high)intense\\nindividual sophisiticated(sophisticated)\\nindividual mellow(low)\\n\\n\\n\\n'"
            ],
            "application/vnd.google.colaboratory.intrinsic+json": {
              "type": "string"
            }
          },
          "metadata": {},
          "execution_count": 96
        }
      ]
    },
    {
      "cell_type": "markdown",
      "source": [
        "### genre based "
      ],
      "metadata": {
        "id": "rYf3rOamE77G"
      }
    },
    {
      "cell_type": "code",
      "source": [
        "for genre in df_genre:\n",
        "  for hofstede in df_hofstede:\n",
        "    print(genre+\" \"+hofstede)\n",
        "    print(df_genre[genre].corr(df_hofstede[hofstede]))"
      ],
      "metadata": {
        "colab": {
          "base_uri": "https://localhost:8080/"
        },
        "id": "I6HERtemuTmC",
        "outputId": "39fa02bf-304d-46b7-ae4d-8ea1c7d23ea4"
      },
      "execution_count": 97,
      "outputs": [
        {
          "output_type": "stream",
          "name": "stdout",
          "text": [
            "Mellow pdi\n",
            "-0.13898449038534522\n",
            "Mellow individualism\n",
            "-0.2484241645722393\n",
            "Mellow  masclunity\n",
            "-0.6593320014634528\n",
            "Mellow  uncertainity\n",
            "0.20515349681255352\n",
            "Mellow orientation\n",
            "0.7645191891249594\n",
            "Mellow indulgence\n",
            "-0.26082848016079857\n",
            "Unpretentious pdi\n",
            "-0.6070909114653847\n",
            "Unpretentious individualism\n",
            "0.9958353128253667\n",
            "Unpretentious  masclunity\n",
            "0.8485355027587173\n",
            "Unpretentious  uncertainity\n",
            "-0.6149318675680913\n",
            "Unpretentious orientation\n",
            "-0.7077630669203182\n",
            "Unpretentious indulgence\n",
            "0.7374309410866509\n",
            "Sophisticated pdi\n",
            "-0.2853492384287917\n",
            "Sophisticated individualism\n",
            "0.8637434277555147\n",
            "Sophisticated  masclunity\n",
            "0.6312412780196733\n",
            "Sophisticated  uncertainity\n",
            "-0.8296678425469981\n",
            "Sophisticated orientation\n",
            "-0.3374052296075558\n",
            "Sophisticated indulgence\n",
            "0.3370790090523472\n",
            "Intense pdi\n",
            "-0.9307165126132142\n",
            "Intense individualism\n",
            "0.42279369534850725\n",
            "Intense  masclunity\n",
            "0.3583861016926725\n",
            "Intense  uncertainity\n",
            "0.4092501634260082\n",
            "Intense orientation\n",
            "-0.5998503003988617\n",
            "Intense indulgence\n",
            "0.9310303408964972\n",
            "Contemporary pdi\n",
            "0.8160561473501066\n",
            "Contemporary individualism\n",
            "-0.8895709046155024\n",
            "Contemporary  masclunity\n",
            "-0.6184425080814587\n",
            "Contemporary  uncertainity\n",
            "0.35041845738966465\n",
            "Contemporary orientation\n",
            "0.5312706188521004\n",
            "Contemporary indulgence\n",
            "-0.8034017672786367\n"
          ]
        }
      ]
    },
    {
      "cell_type": "markdown",
      "source": [
        "### p-values"
      ],
      "metadata": {
        "id": "T0MbvxNjY7qg"
      }
    },
    {
      "cell_type": "code",
      "source": [
        "print(\"\\t\"+\"  PDI\"+\"\\t\")\n",
        "# Define the values for each group\n",
        "for col in new_cols:\n",
        "    group1 = df_ind_final[col].tolist()+df_sk_final[col].tolist()\n",
        "    group2 = df_usa_final[col].tolist()+df_arg_final[col].tolist()\n",
        "\n",
        "    # Perform the ANOVA test\n",
        "    f_stat, p_val = stats.f_oneway(group1, group2)\n",
        "    stri=\"\\t\"\n",
        "    # Print the results\n",
        "    if(p_val<=0.05):\n",
        "      print(stri+col.upper()+stri)\n",
        "      print(\"F-statistic:\", f_stat)\n",
        "      print(\"p-value:\", p_val)\n",
        "      print(stri+stri)"
      ],
      "metadata": {
        "colab": {
          "base_uri": "https://localhost:8080/"
        },
        "id": "pa2wqUVtY9__",
        "outputId": "7ef8464e-f2ab-4f2b-eddb-36d5af0009b9"
      },
      "execution_count": 14,
      "outputs": [
        {
          "output_type": "stream",
          "name": "stdout",
          "text": [
            "\t  PDI\t\n",
            "\tCONTEMPERORY\t\n",
            "F-statistic: 9.195146701065632\n",
            "p-value: 0.002426576416674663\n",
            "\t\t\n"
          ]
        }
      ]
    },
    {
      "cell_type": "code",
      "source": [
        "print(\"\\t\"+\"INDIVIDUALISM\"+\"\\t\")\n",
        "# Define the values for each group\n",
        "for col in new_cols:\n",
        "    group1 = df_ind_final[col].tolist()+df_arg_final[col].tolist()\n",
        "    group2 = df_usa_final[col].tolist()\n",
        "    group3=df_sk_final[col].tolist()\n",
        "\n",
        "    # Perform the ANOVA test\n",
        "    f_stat, p_val = stats.f_oneway(group3,group1, group2)\n",
        "    stri=\"\\t\"\n",
        "    if(p_val<=0.05):\n",
        "      print(stri+col.upper()+stri)\n",
        "      print(\"F-statistic:\", f_stat)\n",
        "      print(\"p-value:\", p_val)\n",
        "      print(stri+stri)"
      ],
      "metadata": {
        "colab": {
          "base_uri": "https://localhost:8080/"
        },
        "id": "R97S85xTZEBs",
        "outputId": "ad5069a9-d90d-4d05-f51e-6753fd14d078"
      },
      "execution_count": 16,
      "outputs": [
        {
          "output_type": "stream",
          "name": "stdout",
          "text": [
            "\tINDIVIDUALISM\t\n",
            "\tMELLOW\t\n",
            "F-statistic: 9.85764833474539\n",
            "p-value: 5.921413907598845e-05\n",
            "\t\t\n",
            "\tSOPHISTICATED\t\n",
            "F-statistic: 43.79070163700403\n",
            "p-value: 9.591235193485977e-19\n",
            "\t\t\n",
            "\tCONTEMPERORY\t\n",
            "F-statistic: 4.673536953137365\n",
            "p-value: 0.009603973391597867\n",
            "\t\t\n"
          ]
        }
      ]
    },
    {
      "cell_type": "code",
      "source": [
        "print(\"\\t\"+\"MASCLUNITY\"+\"\\t\")\n",
        "# Define the values for each group\n",
        "for col in new_cols:\n",
        "    group1 = df_ind_final[col].tolist()+df_usa_final[col].tolist()+df_arg_final[col].tolist()\n",
        "    group2 = df_sk_final[col].tolist()\n",
        "\n",
        "    # Perform the ANOVA test\n",
        "    f_stat, p_val = stats.f_oneway(group1, group2)\n",
        "    stri=\"\\t\"\n",
        "    if(p_val<=0.05):\n",
        "      print(stri+col.upper()+stri)\n",
        "      print(\"F-statistic:\", f_stat)\n",
        "      print(\"p-value:\", p_val)\n",
        "      print(stri+stri)"
      ],
      "metadata": {
        "colab": {
          "base_uri": "https://localhost:8080/"
        },
        "id": "wY77BJJgZ4ZO",
        "outputId": "7fe03c1a-b730-43e5-8df1-f6e7c1f28f51"
      },
      "execution_count": 17,
      "outputs": [
        {
          "output_type": "stream",
          "name": "stdout",
          "text": [
            "\tMASCLUNITY\t\n",
            "\tUNPRETENIOUS\t\n",
            "F-statistic: 4.588174188412303\n",
            "p-value: 0.03219329065526913\n",
            "\t\t\n",
            "\tSOPHISTICATED\t\n",
            "F-statistic: 4.070217492605117\n",
            "p-value: 0.04364565430996874\n",
            "\t\t\n",
            "\tCONTEMPERORY\t\n",
            "F-statistic: 10.528568664920046\n",
            "p-value: 0.0011754321362695617\n",
            "\t\t\n"
          ]
        }
      ]
    },
    {
      "cell_type": "code",
      "source": [
        "print(\"\\t\"+\"UNCERTAINITY AVOIDANCE\"+\"\\t\")\n",
        "# Define the values for each group\n",
        "for col in new_cols:\n",
        "    group1 = df_ind_final[col].tolist()+df_usa_final[col].tolist()\n",
        "    group2 = df_sk_final[col].tolist()+df_arg_final[col].tolist()\n",
        "\n",
        "    # Perform the ANOVA test\n",
        "    f_stat, p_val = stats.f_oneway(group1, group2)\n",
        "    stri=\"\\t\"\n",
        "    if(p_val<=0.05):\n",
        "      print(stri+col.upper()+stri)\n",
        "      print(\"F-statistic:\", f_stat)\n",
        "      print(\"p-value:\", p_val)\n",
        "      print(stri+stri)"
      ],
      "metadata": {
        "colab": {
          "base_uri": "https://localhost:8080/",
          "height": 252
        },
        "id": "VWXqGWu4achA",
        "outputId": "24f1582d-b03e-4a2c-9bb0-97514e9a6c27"
      },
      "execution_count": 1,
      "outputs": [
        {
          "output_type": "stream",
          "name": "stdout",
          "text": [
            "\tUNCERTAINITY AVOIDANCE\t\n"
          ]
        },
        {
          "output_type": "error",
          "ename": "NameError",
          "evalue": "ignored",
          "traceback": [
            "\u001b[0;31m---------------------------------------------------------------------------\u001b[0m",
            "\u001b[0;31mNameError\u001b[0m                                 Traceback (most recent call last)",
            "\u001b[0;32m<ipython-input-1-1e393d36598f>\u001b[0m in \u001b[0;36m<cell line: 3>\u001b[0;34m()\u001b[0m\n\u001b[1;32m      1\u001b[0m \u001b[0mprint\u001b[0m\u001b[0;34m(\u001b[0m\u001b[0;34m\"\\t\"\u001b[0m\u001b[0;34m+\u001b[0m\u001b[0;34m\"UNCERTAINITY AVOIDANCE\"\u001b[0m\u001b[0;34m+\u001b[0m\u001b[0;34m\"\\t\"\u001b[0m\u001b[0;34m)\u001b[0m\u001b[0;34m\u001b[0m\u001b[0;34m\u001b[0m\u001b[0m\n\u001b[1;32m      2\u001b[0m \u001b[0;31m# Define the values for each group\u001b[0m\u001b[0;34m\u001b[0m\u001b[0;34m\u001b[0m\u001b[0m\n\u001b[0;32m----> 3\u001b[0;31m \u001b[0;32mfor\u001b[0m \u001b[0mcol\u001b[0m \u001b[0;32min\u001b[0m \u001b[0mnew_cols\u001b[0m\u001b[0;34m:\u001b[0m\u001b[0;34m\u001b[0m\u001b[0;34m\u001b[0m\u001b[0m\n\u001b[0m\u001b[1;32m      4\u001b[0m     \u001b[0mgroup1\u001b[0m \u001b[0;34m=\u001b[0m \u001b[0mdf_ind_final\u001b[0m\u001b[0;34m[\u001b[0m\u001b[0mcol\u001b[0m\u001b[0;34m]\u001b[0m\u001b[0;34m.\u001b[0m\u001b[0mtolist\u001b[0m\u001b[0;34m(\u001b[0m\u001b[0;34m)\u001b[0m\u001b[0;34m+\u001b[0m\u001b[0mdf_usa_final\u001b[0m\u001b[0;34m[\u001b[0m\u001b[0mcol\u001b[0m\u001b[0;34m]\u001b[0m\u001b[0;34m.\u001b[0m\u001b[0mtolist\u001b[0m\u001b[0;34m(\u001b[0m\u001b[0;34m)\u001b[0m\u001b[0;34m\u001b[0m\u001b[0;34m\u001b[0m\u001b[0m\n\u001b[1;32m      5\u001b[0m     \u001b[0mgroup2\u001b[0m \u001b[0;34m=\u001b[0m \u001b[0mdf_sk_final\u001b[0m\u001b[0;34m[\u001b[0m\u001b[0mcol\u001b[0m\u001b[0;34m]\u001b[0m\u001b[0;34m.\u001b[0m\u001b[0mtolist\u001b[0m\u001b[0;34m(\u001b[0m\u001b[0;34m)\u001b[0m\u001b[0;34m+\u001b[0m\u001b[0mdf_arg_final\u001b[0m\u001b[0;34m[\u001b[0m\u001b[0mcol\u001b[0m\u001b[0;34m]\u001b[0m\u001b[0;34m.\u001b[0m\u001b[0mtolist\u001b[0m\u001b[0;34m(\u001b[0m\u001b[0;34m)\u001b[0m\u001b[0;34m\u001b[0m\u001b[0;34m\u001b[0m\u001b[0m\n",
            "\u001b[0;31mNameError\u001b[0m: name 'new_cols' is not defined"
          ]
        }
      ]
    },
    {
      "cell_type": "code",
      "source": [
        "print(\"\\t\"+\"Long term orientation\"+\"\\t\")\n",
        "# Define the values for each group\n",
        "for col in new_cols:\n",
        "    group1 = df_ind_final[col].tolist()+df_usa_final[col].tolist()\n",
        "    group2 = df_sk_final[col].tolist()\n",
        "    group3= df_arg_final[col].tolist()\n",
        "\n",
        "    # Perform the ANOVA test\n",
        "    f_stat, p_val = stats.f_oneway(group1, group2,group3)\n",
        "    stri=\"\\t\"\n",
        "    if(p_val<=0.05):\n",
        "      print(stri+col.upper()+stri)\n",
        "      print(\"F-statistic:\", f_stat)\n",
        "      print(\"p-value:\", p_val)\n",
        "      print(stri+stri)"
      ],
      "metadata": {
        "colab": {
          "base_uri": "https://localhost:8080/"
        },
        "id": "DoVZJEaDdScQ",
        "outputId": "f6078dbe-bb4b-4137-a3e0-5649a0cd8d88"
      },
      "execution_count": 18,
      "outputs": [
        {
          "output_type": "stream",
          "name": "stdout",
          "text": [
            "\tLong term orientation\t\n",
            "\tMELLOW\t\n",
            "F-statistic: 8.787485474848584\n",
            "p-value: 0.00016837311975042608\n",
            "\t\t\n",
            "\tUNPRETENIOUS\t\n",
            "F-statistic: 4.8143680745182555\n",
            "p-value: 0.008356578323396677\n",
            "\t\t\n",
            "\tSOPHISTICATED\t\n",
            "F-statistic: 44.611373456757285\n",
            "p-value: 4.591490255273285e-19\n",
            "\t\t\n",
            "\tCONTEMPERORY\t\n",
            "F-statistic: 4.963571964692023\n",
            "p-value: 0.007211696094884968\n",
            "\t\t\n"
          ]
        }
      ]
    },
    {
      "cell_type": "code",
      "source": [
        "print(\"\\t\"+\"Indulgence\"+\"\\t\")\n",
        "# Define the values for each group\n",
        "for col in new_cols:\n",
        "    group1 = df_ind_final[col].tolist()+df_sk_final[col].tolist()\n",
        "    group2= df_arg_final[col].tolist()+df_usa_final[col].tolist()\n",
        "\n",
        "    # Perform the ANOVA test\n",
        "    f_stat, p_val = stats.f_oneway(group1, group2)\n",
        "    stri=\"\\t\"\n",
        "    if(p_val<=0.05):\n",
        "      print(stri+col.upper()+stri)\n",
        "      print(\"F-statistic:\", f_stat)\n",
        "      print(\"p-value:\", p_val)\n",
        "      print(stri+stri)"
      ],
      "metadata": {
        "colab": {
          "base_uri": "https://localhost:8080/"
        },
        "id": "iMFhRnOLdiyH",
        "outputId": "0f88646c-ec00-49a0-ee29-d248b9d37cc1"
      },
      "execution_count": 19,
      "outputs": [
        {
          "output_type": "stream",
          "name": "stdout",
          "text": [
            "\tIndulgence\t\n",
            "\tCONTEMPERORY\t\n",
            "F-statistic: 7.817187892270646\n",
            "p-value: 0.005303082980943242\n",
            "\t\t\n"
          ]
        }
      ]
    },
    {
      "cell_type": "code",
      "source": [],
      "metadata": {
        "id": "jOw7bAQuEqkB"
      },
      "execution_count": null,
      "outputs": []
    },
    {
      "cell_type": "markdown",
      "source": [
        "# trial stuff"
      ],
      "metadata": {
        "id": "0OCzVEfSvqH1"
      }
    },
    {
      "cell_type": "code",
      "source": [],
      "metadata": {
        "id": "W1ey5zRCBypR"
      },
      "execution_count": null,
      "outputs": []
    },
    {
      "cell_type": "code",
      "source": [
        "def func_vals(genres,hofstedes,name):\n",
        "  l=[]\n",
        "  for genre in genres:\n",
        "    l_util=[]\n",
        "    for param in hofstedes:\n",
        "      coeff = pearsonr([genre], [param])\n",
        "      l_util.append(coeff)\n",
        "    l.append(coeff)\n",
        "  print(l)\n",
        "  one_d_list = [x for b in l for x in b]\n",
        "  df = pd.DataFrame(one_d_list, index= ['Mellow','Unpretentious','Sophisticated','Intense','Contemporary'])\n",
        "  df.style.set_caption(name)\n",
        "  df.transpose()\n",
        "  print(df)\n",
        "  return df\n",
        "\n",
        "usa_df=func_vals(usa_genre,usa_hofstede,'usa')\n",
        "print(usa_df)"
      ],
      "metadata": {
        "colab": {
          "base_uri": "https://localhost:8080/",
          "height": 363
        },
        "id": "sSbh1H4yoI_3",
        "outputId": "d9d9d2d4-ebb9-4e62-f115-20966137dbe0"
      },
      "execution_count": null,
      "outputs": [
        {
          "output_type": "error",
          "ename": "ValueError",
          "evalue": "ignored",
          "traceback": [
            "\u001b[0;31m---------------------------------------------------------------------------\u001b[0m",
            "\u001b[0;31mValueError\u001b[0m                                Traceback (most recent call last)",
            "\u001b[0;32m<ipython-input-11-d186bfab0ceb>\u001b[0m in \u001b[0;36m<cell line: 17>\u001b[0;34m()\u001b[0m\n\u001b[1;32m     15\u001b[0m   \u001b[0;32mreturn\u001b[0m \u001b[0mdf\u001b[0m\u001b[0;34m\u001b[0m\u001b[0;34m\u001b[0m\u001b[0m\n\u001b[1;32m     16\u001b[0m \u001b[0;34m\u001b[0m\u001b[0m\n\u001b[0;32m---> 17\u001b[0;31m \u001b[0musa_df\u001b[0m\u001b[0;34m=\u001b[0m\u001b[0mfunc_vals\u001b[0m\u001b[0;34m(\u001b[0m\u001b[0musa_genre\u001b[0m\u001b[0;34m,\u001b[0m\u001b[0musa_hofstede\u001b[0m\u001b[0;34m,\u001b[0m\u001b[0;34m'usa'\u001b[0m\u001b[0;34m)\u001b[0m\u001b[0;34m\u001b[0m\u001b[0;34m\u001b[0m\u001b[0m\n\u001b[0m\u001b[1;32m     18\u001b[0m \u001b[0mprint\u001b[0m\u001b[0;34m(\u001b[0m\u001b[0musa_df\u001b[0m\u001b[0;34m)\u001b[0m\u001b[0;34m\u001b[0m\u001b[0;34m\u001b[0m\u001b[0m\n",
            "\u001b[0;32m<ipython-input-11-d186bfab0ceb>\u001b[0m in \u001b[0;36mfunc_vals\u001b[0;34m(genres, hofstedes, name)\u001b[0m\n\u001b[1;32m      4\u001b[0m     \u001b[0ml_util\u001b[0m\u001b[0;34m=\u001b[0m\u001b[0;34m[\u001b[0m\u001b[0;34m]\u001b[0m\u001b[0;34m\u001b[0m\u001b[0;34m\u001b[0m\u001b[0m\n\u001b[1;32m      5\u001b[0m     \u001b[0;32mfor\u001b[0m \u001b[0mparam\u001b[0m \u001b[0;32min\u001b[0m \u001b[0mhofstedes\u001b[0m\u001b[0;34m:\u001b[0m\u001b[0;34m\u001b[0m\u001b[0;34m\u001b[0m\u001b[0m\n\u001b[0;32m----> 6\u001b[0;31m       \u001b[0mcoeff\u001b[0m \u001b[0;34m=\u001b[0m \u001b[0mpearsonr\u001b[0m\u001b[0;34m(\u001b[0m\u001b[0;34m[\u001b[0m\u001b[0mgenre\u001b[0m\u001b[0;34m]\u001b[0m\u001b[0;34m,\u001b[0m \u001b[0;34m[\u001b[0m\u001b[0mparam\u001b[0m\u001b[0;34m]\u001b[0m\u001b[0;34m)\u001b[0m\u001b[0;34m\u001b[0m\u001b[0;34m\u001b[0m\u001b[0m\n\u001b[0m\u001b[1;32m      7\u001b[0m       \u001b[0ml_util\u001b[0m\u001b[0;34m.\u001b[0m\u001b[0mappend\u001b[0m\u001b[0;34m(\u001b[0m\u001b[0mcoeff\u001b[0m\u001b[0;34m)\u001b[0m\u001b[0;34m\u001b[0m\u001b[0;34m\u001b[0m\u001b[0m\n\u001b[1;32m      8\u001b[0m     \u001b[0ml\u001b[0m\u001b[0;34m.\u001b[0m\u001b[0mappend\u001b[0m\u001b[0;34m(\u001b[0m\u001b[0mcoeff\u001b[0m\u001b[0;34m)\u001b[0m\u001b[0;34m\u001b[0m\u001b[0;34m\u001b[0m\u001b[0m\n",
            "\u001b[0;32m/usr/local/lib/python3.9/dist-packages/scipy/stats/_stats_py.py\u001b[0m in \u001b[0;36mpearsonr\u001b[0;34m(x, y, alternative)\u001b[0m\n\u001b[1;32m   4409\u001b[0m \u001b[0;34m\u001b[0m\u001b[0m\n\u001b[1;32m   4410\u001b[0m     \u001b[0;32mif\u001b[0m \u001b[0mn\u001b[0m \u001b[0;34m<\u001b[0m \u001b[0;36m2\u001b[0m\u001b[0;34m:\u001b[0m\u001b[0;34m\u001b[0m\u001b[0;34m\u001b[0m\u001b[0m\n\u001b[0;32m-> 4411\u001b[0;31m         \u001b[0;32mraise\u001b[0m \u001b[0mValueError\u001b[0m\u001b[0;34m(\u001b[0m\u001b[0;34m'x and y must have length at least 2.'\u001b[0m\u001b[0;34m)\u001b[0m\u001b[0;34m\u001b[0m\u001b[0;34m\u001b[0m\u001b[0m\n\u001b[0m\u001b[1;32m   4412\u001b[0m \u001b[0;34m\u001b[0m\u001b[0m\n\u001b[1;32m   4413\u001b[0m     \u001b[0mx\u001b[0m \u001b[0;34m=\u001b[0m \u001b[0mnp\u001b[0m\u001b[0;34m.\u001b[0m\u001b[0masarray\u001b[0m\u001b[0;34m(\u001b[0m\u001b[0mx\u001b[0m\u001b[0;34m)\u001b[0m\u001b[0;34m\u001b[0m\u001b[0;34m\u001b[0m\u001b[0m\n",
            "\u001b[0;31mValueError\u001b[0m: x and y must have length at least 2."
          ]
        }
      ]
    },
    {
      "cell_type": "code",
      "source": [
        "df = pd.DataFrame(dict(x=ind_hofstede))\n",
        "\n",
        "CORR_VALS = np.array(ind_genre)\n",
        "def get_correlation(vals):\n",
        "    return pearsonr(vals, CORR_VALS)[0]\n",
        "\n",
        "df['ind'] = df.rolling(window=len(CORR_VALS)).apply(get_correlation)\n"
      ],
      "metadata": {
        "id": "Fo_9fD7ahHRo"
      },
      "execution_count": null,
      "outputs": []
    },
    {
      "cell_type": "code",
      "source": [
        "print(df)"
      ],
      "metadata": {
        "colab": {
          "base_uri": "https://localhost:8080/"
        },
        "id": "WYaeFp7ghfFi",
        "outputId": "ddc2ba9c-61de-475c-ac34-443577c41b47"
      },
      "execution_count": null,
      "outputs": [
        {
          "output_type": "stream",
          "name": "stdout",
          "text": [
            "    x  correlation\n",
            "0  77          NaN\n",
            "1  48          NaN\n",
            "2  56          NaN\n",
            "3  40          NaN\n",
            "4  51    -0.125808\n",
            "5  26    -0.908452\n"
          ]
        }
      ]
    },
    {
      "cell_type": "code",
      "source": [
        "df = pd.DataFrame(dict(x=arg_hofstede))\n",
        "\n",
        "CORR_VALS = np.array(arg_genre)\n",
        "def get_correlation(vals):\n",
        "    return pearsonr(vals, CORR_VALS)[0]\n",
        "\n",
        "df['arg'] = df.rolling(window=len(CORR_VALS)).apply(get_correlation)\n"
      ],
      "metadata": {
        "id": "3XMIgtm7hm1A"
      },
      "execution_count": null,
      "outputs": []
    },
    {
      "cell_type": "code",
      "source": [
        "print(df)"
      ],
      "metadata": {
        "colab": {
          "base_uri": "https://localhost:8080/"
        },
        "id": "-_wtJyQKh-cm",
        "outputId": "8150a0a2-9bdd-4a9a-e802-731b482b284e"
      },
      "execution_count": null,
      "outputs": [
        {
          "output_type": "stream",
          "name": "stdout",
          "text": [
            "    x       arg\n",
            "0  49       NaN\n",
            "1  46       NaN\n",
            "2  56       NaN\n",
            "3  86       NaN\n",
            "4  20 -0.245450\n",
            "5  62 -0.282536\n"
          ]
        }
      ]
    },
    {
      "cell_type": "code",
      "source": [
        "df = pd.DataFrame(dict(x=sk_hofstede))\n",
        "\n",
        "CORR_VALS = np.array(sk_genre)\n",
        "def get_correlation(vals):\n",
        "    return pearsonr(vals, CORR_VALS)[0]\n",
        "\n",
        "df['sk'] = df.rolling(window=len(CORR_VALS)).apply(get_correlation)\n"
      ],
      "metadata": {
        "id": "snJhKBzlh1V9"
      },
      "execution_count": null,
      "outputs": []
    },
    {
      "cell_type": "code",
      "source": [
        "print(df)"
      ],
      "metadata": {
        "colab": {
          "base_uri": "https://localhost:8080/"
        },
        "id": "yzq5vmglh9BO",
        "outputId": "b18329ce-720f-4b43-8c74-fcf91f7f4dbc"
      },
      "execution_count": null,
      "outputs": [
        {
          "output_type": "stream",
          "name": "stdout",
          "text": [
            "     x        sk\n",
            "0   60       NaN\n",
            "1   18       NaN\n",
            "2   39       NaN\n",
            "3   85       NaN\n",
            "4  100  0.808778\n",
            "5   29 -0.241745\n"
          ]
        }
      ]
    },
    {
      "cell_type": "code",
      "source": [
        "df = pd.DataFrame(dict(x=usa_hofstede))\n",
        "\n",
        "CORR_VALS = np.array(usa_genre)\n",
        "def get_correlation(vals):\n",
        "    return pearsonr(vals, CORR_VALS)[0]\n",
        "\n",
        "df['usa'] = df.rolling(window=len(CORR_VALS)).apply(get_correlation)\n"
      ],
      "metadata": {
        "id": "Djw73f02h3Sg"
      },
      "execution_count": null,
      "outputs": []
    },
    {
      "cell_type": "code",
      "source": [
        "print(df)"
      ],
      "metadata": {
        "colab": {
          "base_uri": "https://localhost:8080/"
        },
        "id": "aRCAu2DGh6T2",
        "outputId": "e4eda940-560a-4052-f10b-1147c5f46e1b"
      },
      "execution_count": null,
      "outputs": [
        {
          "output_type": "stream",
          "name": "stdout",
          "text": [
            "    x       usa\n",
            "0  40       NaN\n",
            "1  91       NaN\n",
            "2  62       NaN\n",
            "3  46       NaN\n",
            "4  26 -0.647387\n",
            "5  68 -0.004385\n"
          ]
        }
      ]
    },
    {
      "cell_type": "code",
      "source": [],
      "metadata": {
        "id": "J_apF8LDh7YX"
      },
      "execution_count": null,
      "outputs": []
    }
  ]
}